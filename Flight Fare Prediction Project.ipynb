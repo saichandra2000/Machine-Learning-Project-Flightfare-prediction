{
 "cells": [
  {
   "cell_type": "code",
   "execution_count": null,
   "metadata": {},
   "outputs": [],
   "source": []
  },
  {
   "cell_type": "code",
   "execution_count": 3,
   "metadata": {
    "ExecuteTime": {
     "end_time": "2024-03-02T18:35:03.777549Z",
     "start_time": "2024-03-02T18:35:03.742426Z"
    }
   },
   "outputs": [],
   "source": [
    "import pandas as pd\n",
    "import numpy as np\n",
    "import matplotlib.pyplot as plt\n",
    "import seaborn as sns\n",
    "import time\n",
    "import pickle\n",
    "%matplotlib inline"
   ]
  },
  {
   "cell_type": "code",
   "execution_count": 6,
   "metadata": {
    "ExecuteTime": {
     "end_time": "2024-03-02T18:35:48.614901Z",
     "start_time": "2024-03-02T18:35:47.650556Z"
    }
   },
   "outputs": [],
   "source": [
    "##Source - https://www.kaggle.com/nikhilmittal/flight-fare-prediction-mh\n",
    "train=pd.read_excel('Data_Train.xlsx')\n",
    "sample = pd.read_excel('Sample_submission.xlsx')\n",
    "test = pd.read_excel('Test_set.xlsx')"
   ]
  },
  {
   "cell_type": "code",
   "execution_count": 7,
   "metadata": {
    "ExecuteTime": {
     "end_time": "2024-03-02T18:35:52.311218Z",
     "start_time": "2024-03-02T18:35:52.301005Z"
    }
   },
   "outputs": [
    {
     "data": {
      "text/plain": "       Airline Date_of_Journey    Source Destination                  Route  \\\n0       IndiGo      24/03/2019  Banglore   New Delhi              BLR → DEL   \n1    Air India       1/05/2019   Kolkata    Banglore  CCU → IXR → BBI → BLR   \n2  Jet Airways       9/06/2019     Delhi      Cochin  DEL → LKO → BOM → COK   \n3       IndiGo      12/05/2019   Kolkata    Banglore        CCU → NAG → BLR   \n4       IndiGo      01/03/2019  Banglore   New Delhi        BLR → NAG → DEL   \n\n  Dep_Time  Arrival_Time Duration Total_Stops Additional_Info  Price  \n0    22:20  01:10 22 Mar   2h 50m    non-stop         No info   3897  \n1    05:50         13:15   7h 25m     2 stops         No info   7662  \n2    09:25  04:25 10 Jun      19h     2 stops         No info  13882  \n3    18:05         23:30   5h 25m      1 stop         No info   6218  \n4    16:50         21:35   4h 45m      1 stop         No info  13302  ",
      "text/html": "<div>\n<style scoped>\n    .dataframe tbody tr th:only-of-type {\n        vertical-align: middle;\n    }\n\n    .dataframe tbody tr th {\n        vertical-align: top;\n    }\n\n    .dataframe thead th {\n        text-align: right;\n    }\n</style>\n<table border=\"1\" class=\"dataframe\">\n  <thead>\n    <tr style=\"text-align: right;\">\n      <th></th>\n      <th>Airline</th>\n      <th>Date_of_Journey</th>\n      <th>Source</th>\n      <th>Destination</th>\n      <th>Route</th>\n      <th>Dep_Time</th>\n      <th>Arrival_Time</th>\n      <th>Duration</th>\n      <th>Total_Stops</th>\n      <th>Additional_Info</th>\n      <th>Price</th>\n    </tr>\n  </thead>\n  <tbody>\n    <tr>\n      <th>0</th>\n      <td>IndiGo</td>\n      <td>24/03/2019</td>\n      <td>Banglore</td>\n      <td>New Delhi</td>\n      <td>BLR → DEL</td>\n      <td>22:20</td>\n      <td>01:10 22 Mar</td>\n      <td>2h 50m</td>\n      <td>non-stop</td>\n      <td>No info</td>\n      <td>3897</td>\n    </tr>\n    <tr>\n      <th>1</th>\n      <td>Air India</td>\n      <td>1/05/2019</td>\n      <td>Kolkata</td>\n      <td>Banglore</td>\n      <td>CCU → IXR → BBI → BLR</td>\n      <td>05:50</td>\n      <td>13:15</td>\n      <td>7h 25m</td>\n      <td>2 stops</td>\n      <td>No info</td>\n      <td>7662</td>\n    </tr>\n    <tr>\n      <th>2</th>\n      <td>Jet Airways</td>\n      <td>9/06/2019</td>\n      <td>Delhi</td>\n      <td>Cochin</td>\n      <td>DEL → LKO → BOM → COK</td>\n      <td>09:25</td>\n      <td>04:25 10 Jun</td>\n      <td>19h</td>\n      <td>2 stops</td>\n      <td>No info</td>\n      <td>13882</td>\n    </tr>\n    <tr>\n      <th>3</th>\n      <td>IndiGo</td>\n      <td>12/05/2019</td>\n      <td>Kolkata</td>\n      <td>Banglore</td>\n      <td>CCU → NAG → BLR</td>\n      <td>18:05</td>\n      <td>23:30</td>\n      <td>5h 25m</td>\n      <td>1 stop</td>\n      <td>No info</td>\n      <td>6218</td>\n    </tr>\n    <tr>\n      <th>4</th>\n      <td>IndiGo</td>\n      <td>01/03/2019</td>\n      <td>Banglore</td>\n      <td>New Delhi</td>\n      <td>BLR → NAG → DEL</td>\n      <td>16:50</td>\n      <td>21:35</td>\n      <td>4h 45m</td>\n      <td>1 stop</td>\n      <td>No info</td>\n      <td>13302</td>\n    </tr>\n  </tbody>\n</table>\n</div>"
     },
     "execution_count": 7,
     "metadata": {},
     "output_type": "execute_result"
    }
   ],
   "source": [
    "train.head()"
   ]
  },
  {
   "cell_type": "code",
   "execution_count": 8,
   "metadata": {
    "ExecuteTime": {
     "end_time": "2024-03-02T18:35:55.937105Z",
     "start_time": "2024-03-02T18:35:55.910560Z"
    }
   },
   "outputs": [],
   "source": [
    "test = pd.concat([test,sample],axis=1)"
   ]
  },
  {
   "cell_type": "code",
   "execution_count": 9,
   "metadata": {
    "ExecuteTime": {
     "end_time": "2024-03-02T18:35:58.254683Z",
     "start_time": "2024-03-02T18:35:58.245320Z"
    }
   },
   "outputs": [
    {
     "data": {
      "text/plain": "             Airline Date_of_Journey    Source Destination            Route  \\\n0        Jet Airways       6/06/2019     Delhi      Cochin  DEL → BOM → COK   \n1             IndiGo      12/05/2019   Kolkata    Banglore  CCU → MAA → BLR   \n2        Jet Airways      21/05/2019     Delhi      Cochin  DEL → BOM → COK   \n3  Multiple carriers      21/05/2019     Delhi      Cochin  DEL → BOM → COK   \n4           Air Asia      24/06/2019  Banglore       Delhi        BLR → DEL   \n\n  Dep_Time  Arrival_Time Duration Total_Stops              Additional_Info  \\\n0    17:30  04:25 07 Jun  10h 55m      1 stop                      No info   \n1    06:20         10:20       4h      1 stop                      No info   \n2    19:15  19:00 22 May  23h 45m      1 stop  In-flight meal not included   \n3    08:00         21:00      13h      1 stop                      No info   \n4    23:55  02:45 25 Jun   2h 50m    non-stop                      No info   \n\n   Price  \n0  15998  \n1  16612  \n2  25572  \n3  25778  \n4  16934  ",
      "text/html": "<div>\n<style scoped>\n    .dataframe tbody tr th:only-of-type {\n        vertical-align: middle;\n    }\n\n    .dataframe tbody tr th {\n        vertical-align: top;\n    }\n\n    .dataframe thead th {\n        text-align: right;\n    }\n</style>\n<table border=\"1\" class=\"dataframe\">\n  <thead>\n    <tr style=\"text-align: right;\">\n      <th></th>\n      <th>Airline</th>\n      <th>Date_of_Journey</th>\n      <th>Source</th>\n      <th>Destination</th>\n      <th>Route</th>\n      <th>Dep_Time</th>\n      <th>Arrival_Time</th>\n      <th>Duration</th>\n      <th>Total_Stops</th>\n      <th>Additional_Info</th>\n      <th>Price</th>\n    </tr>\n  </thead>\n  <tbody>\n    <tr>\n      <th>0</th>\n      <td>Jet Airways</td>\n      <td>6/06/2019</td>\n      <td>Delhi</td>\n      <td>Cochin</td>\n      <td>DEL → BOM → COK</td>\n      <td>17:30</td>\n      <td>04:25 07 Jun</td>\n      <td>10h 55m</td>\n      <td>1 stop</td>\n      <td>No info</td>\n      <td>15998</td>\n    </tr>\n    <tr>\n      <th>1</th>\n      <td>IndiGo</td>\n      <td>12/05/2019</td>\n      <td>Kolkata</td>\n      <td>Banglore</td>\n      <td>CCU → MAA → BLR</td>\n      <td>06:20</td>\n      <td>10:20</td>\n      <td>4h</td>\n      <td>1 stop</td>\n      <td>No info</td>\n      <td>16612</td>\n    </tr>\n    <tr>\n      <th>2</th>\n      <td>Jet Airways</td>\n      <td>21/05/2019</td>\n      <td>Delhi</td>\n      <td>Cochin</td>\n      <td>DEL → BOM → COK</td>\n      <td>19:15</td>\n      <td>19:00 22 May</td>\n      <td>23h 45m</td>\n      <td>1 stop</td>\n      <td>In-flight meal not included</td>\n      <td>25572</td>\n    </tr>\n    <tr>\n      <th>3</th>\n      <td>Multiple carriers</td>\n      <td>21/05/2019</td>\n      <td>Delhi</td>\n      <td>Cochin</td>\n      <td>DEL → BOM → COK</td>\n      <td>08:00</td>\n      <td>21:00</td>\n      <td>13h</td>\n      <td>1 stop</td>\n      <td>No info</td>\n      <td>25778</td>\n    </tr>\n    <tr>\n      <th>4</th>\n      <td>Air Asia</td>\n      <td>24/06/2019</td>\n      <td>Banglore</td>\n      <td>Delhi</td>\n      <td>BLR → DEL</td>\n      <td>23:55</td>\n      <td>02:45 25 Jun</td>\n      <td>2h 50m</td>\n      <td>non-stop</td>\n      <td>No info</td>\n      <td>16934</td>\n    </tr>\n  </tbody>\n</table>\n</div>"
     },
     "execution_count": 9,
     "metadata": {},
     "output_type": "execute_result"
    }
   ],
   "source": [
    "test.head()"
   ]
  },
  {
   "cell_type": "code",
   "execution_count": 10,
   "metadata": {
    "ExecuteTime": {
     "end_time": "2024-03-02T18:36:01.225564Z",
     "start_time": "2024-03-02T18:36:01.205255Z"
    }
   },
   "outputs": [
    {
     "data": {
      "text/plain": "((10683, 11), (2671, 11), 79.99850232140183)"
     },
     "execution_count": 10,
     "metadata": {},
     "output_type": "execute_result"
    }
   ],
   "source": [
    "train.shape,test.shape,train.shape[0]/(train.shape[0]+test.shape[0])*100"
   ]
  },
  {
   "cell_type": "code",
   "execution_count": 11,
   "metadata": {
    "ExecuteTime": {
     "end_time": "2024-03-02T18:36:03.743544Z",
     "start_time": "2024-03-02T18:36:03.725221Z"
    }
   },
   "outputs": [
    {
     "data": {
      "text/plain": "(13354, 11)"
     },
     "execution_count": 11,
     "metadata": {},
     "output_type": "execute_result"
    }
   ],
   "source": [
    "df= pd.concat([train,test])\n",
    "df.shape"
   ]
  },
  {
   "cell_type": "code",
   "execution_count": 12,
   "metadata": {
    "ExecuteTime": {
     "end_time": "2024-03-02T18:36:06.595182Z",
     "start_time": "2024-03-02T18:36:06.585377Z"
    }
   },
   "outputs": [
    {
     "data": {
      "text/plain": "       Airline Date_of_Journey    Source Destination                  Route  \\\n0       IndiGo      24/03/2019  Banglore   New Delhi              BLR → DEL   \n1    Air India       1/05/2019   Kolkata    Banglore  CCU → IXR → BBI → BLR   \n2  Jet Airways       9/06/2019     Delhi      Cochin  DEL → LKO → BOM → COK   \n3       IndiGo      12/05/2019   Kolkata    Banglore        CCU → NAG → BLR   \n4       IndiGo      01/03/2019  Banglore   New Delhi        BLR → NAG → DEL   \n\n  Dep_Time  Arrival_Time Duration Total_Stops Additional_Info  Price  \n0    22:20  01:10 22 Mar   2h 50m    non-stop         No info   3897  \n1    05:50         13:15   7h 25m     2 stops         No info   7662  \n2    09:25  04:25 10 Jun      19h     2 stops         No info  13882  \n3    18:05         23:30   5h 25m      1 stop         No info   6218  \n4    16:50         21:35   4h 45m      1 stop         No info  13302  ",
      "text/html": "<div>\n<style scoped>\n    .dataframe tbody tr th:only-of-type {\n        vertical-align: middle;\n    }\n\n    .dataframe tbody tr th {\n        vertical-align: top;\n    }\n\n    .dataframe thead th {\n        text-align: right;\n    }\n</style>\n<table border=\"1\" class=\"dataframe\">\n  <thead>\n    <tr style=\"text-align: right;\">\n      <th></th>\n      <th>Airline</th>\n      <th>Date_of_Journey</th>\n      <th>Source</th>\n      <th>Destination</th>\n      <th>Route</th>\n      <th>Dep_Time</th>\n      <th>Arrival_Time</th>\n      <th>Duration</th>\n      <th>Total_Stops</th>\n      <th>Additional_Info</th>\n      <th>Price</th>\n    </tr>\n  </thead>\n  <tbody>\n    <tr>\n      <th>0</th>\n      <td>IndiGo</td>\n      <td>24/03/2019</td>\n      <td>Banglore</td>\n      <td>New Delhi</td>\n      <td>BLR → DEL</td>\n      <td>22:20</td>\n      <td>01:10 22 Mar</td>\n      <td>2h 50m</td>\n      <td>non-stop</td>\n      <td>No info</td>\n      <td>3897</td>\n    </tr>\n    <tr>\n      <th>1</th>\n      <td>Air India</td>\n      <td>1/05/2019</td>\n      <td>Kolkata</td>\n      <td>Banglore</td>\n      <td>CCU → IXR → BBI → BLR</td>\n      <td>05:50</td>\n      <td>13:15</td>\n      <td>7h 25m</td>\n      <td>2 stops</td>\n      <td>No info</td>\n      <td>7662</td>\n    </tr>\n    <tr>\n      <th>2</th>\n      <td>Jet Airways</td>\n      <td>9/06/2019</td>\n      <td>Delhi</td>\n      <td>Cochin</td>\n      <td>DEL → LKO → BOM → COK</td>\n      <td>09:25</td>\n      <td>04:25 10 Jun</td>\n      <td>19h</td>\n      <td>2 stops</td>\n      <td>No info</td>\n      <td>13882</td>\n    </tr>\n    <tr>\n      <th>3</th>\n      <td>IndiGo</td>\n      <td>12/05/2019</td>\n      <td>Kolkata</td>\n      <td>Banglore</td>\n      <td>CCU → NAG → BLR</td>\n      <td>18:05</td>\n      <td>23:30</td>\n      <td>5h 25m</td>\n      <td>1 stop</td>\n      <td>No info</td>\n      <td>6218</td>\n    </tr>\n    <tr>\n      <th>4</th>\n      <td>IndiGo</td>\n      <td>01/03/2019</td>\n      <td>Banglore</td>\n      <td>New Delhi</td>\n      <td>BLR → NAG → DEL</td>\n      <td>16:50</td>\n      <td>21:35</td>\n      <td>4h 45m</td>\n      <td>1 stop</td>\n      <td>No info</td>\n      <td>13302</td>\n    </tr>\n  </tbody>\n</table>\n</div>"
     },
     "execution_count": 12,
     "metadata": {},
     "output_type": "execute_result"
    }
   ],
   "source": [
    "df.head()"
   ]
  },
  {
   "cell_type": "markdown",
   "metadata": {},
   "source": [
    "### Feature Engineering"
   ]
  },
  {
   "cell_type": "code",
   "execution_count": 13,
   "metadata": {
    "ExecuteTime": {
     "end_time": "2024-03-02T18:36:09.849838Z",
     "start_time": "2024-03-02T18:36:09.842738Z"
    }
   },
   "outputs": [],
   "source": [
    "##Droping columns that does not seem practical to ask to a customer.\n",
    "df.drop(labels=['Route','Arrival_Time','Duration','Additional_Info'],axis=1,inplace=True)"
   ]
  },
  {
   "cell_type": "code",
   "execution_count": 14,
   "metadata": {
    "ExecuteTime": {
     "end_time": "2024-03-02T18:36:14.137649Z",
     "start_time": "2024-03-02T18:36:14.127837Z"
    }
   },
   "outputs": [
    {
     "data": {
      "text/plain": "       Airline Date_of_Journey    Source Destination Dep_Time Total_Stops  \\\n0       IndiGo      24/03/2019  Banglore   New Delhi    22:20    non-stop   \n1    Air India       1/05/2019   Kolkata    Banglore    05:50     2 stops   \n2  Jet Airways       9/06/2019     Delhi      Cochin    09:25     2 stops   \n3       IndiGo      12/05/2019   Kolkata    Banglore    18:05      1 stop   \n4       IndiGo      01/03/2019  Banglore   New Delhi    16:50      1 stop   \n\n   Price  \n0   3897  \n1   7662  \n2  13882  \n3   6218  \n4  13302  ",
      "text/html": "<div>\n<style scoped>\n    .dataframe tbody tr th:only-of-type {\n        vertical-align: middle;\n    }\n\n    .dataframe tbody tr th {\n        vertical-align: top;\n    }\n\n    .dataframe thead th {\n        text-align: right;\n    }\n</style>\n<table border=\"1\" class=\"dataframe\">\n  <thead>\n    <tr style=\"text-align: right;\">\n      <th></th>\n      <th>Airline</th>\n      <th>Date_of_Journey</th>\n      <th>Source</th>\n      <th>Destination</th>\n      <th>Dep_Time</th>\n      <th>Total_Stops</th>\n      <th>Price</th>\n    </tr>\n  </thead>\n  <tbody>\n    <tr>\n      <th>0</th>\n      <td>IndiGo</td>\n      <td>24/03/2019</td>\n      <td>Banglore</td>\n      <td>New Delhi</td>\n      <td>22:20</td>\n      <td>non-stop</td>\n      <td>3897</td>\n    </tr>\n    <tr>\n      <th>1</th>\n      <td>Air India</td>\n      <td>1/05/2019</td>\n      <td>Kolkata</td>\n      <td>Banglore</td>\n      <td>05:50</td>\n      <td>2 stops</td>\n      <td>7662</td>\n    </tr>\n    <tr>\n      <th>2</th>\n      <td>Jet Airways</td>\n      <td>9/06/2019</td>\n      <td>Delhi</td>\n      <td>Cochin</td>\n      <td>09:25</td>\n      <td>2 stops</td>\n      <td>13882</td>\n    </tr>\n    <tr>\n      <th>3</th>\n      <td>IndiGo</td>\n      <td>12/05/2019</td>\n      <td>Kolkata</td>\n      <td>Banglore</td>\n      <td>18:05</td>\n      <td>1 stop</td>\n      <td>6218</td>\n    </tr>\n    <tr>\n      <th>4</th>\n      <td>IndiGo</td>\n      <td>01/03/2019</td>\n      <td>Banglore</td>\n      <td>New Delhi</td>\n      <td>16:50</td>\n      <td>1 stop</td>\n      <td>13302</td>\n    </tr>\n  </tbody>\n</table>\n</div>"
     },
     "execution_count": 14,
     "metadata": {},
     "output_type": "execute_result"
    }
   ],
   "source": [
    "df.head()"
   ]
  },
  {
   "cell_type": "code",
   "execution_count": 15,
   "metadata": {
    "ExecuteTime": {
     "end_time": "2024-03-02T18:36:17.402374Z",
     "start_time": "2024-03-02T18:36:17.373021Z"
    }
   },
   "outputs": [
    {
     "data": {
      "text/plain": "Airline\nJet Airways                          4746\nIndiGo                               2564\nAir India                            2192\nMultiple carriers                    1543\nSpiceJet                             1026\nVistara                               608\nAir Asia                              405\nGoAir                                 240\nMultiple carriers Premium economy      16\nJet Airways Business                    8\nVistara Premium economy                 5\nTrujet                                  1\nName: count, dtype: int64"
     },
     "execution_count": 15,
     "metadata": {},
     "output_type": "execute_result"
    }
   ],
   "source": [
    "df['Airline'].value_counts()"
   ]
  },
  {
   "cell_type": "code",
   "execution_count": 500,
   "metadata": {},
   "outputs": [
    {
     "data": {
      "text/plain": [
       "(Delhi       5682\n",
       " Kolkata     3581\n",
       " Banglore    2752\n",
       " Mumbai       883\n",
       " Chennai      456\n",
       " Name: Source, dtype: int64,\n",
       " Cochin       5682\n",
       " Banglore     3581\n",
       " Delhi        1582\n",
       " New Delhi    1170\n",
       " Hyderabad     883\n",
       " Kolkata       456\n",
       " Name: Destination, dtype: int64)"
      ]
     },
     "execution_count": 500,
     "metadata": {},
     "output_type": "execute_result"
    }
   ],
   "source": [
    "df['Source'].value_counts(),df['Destination'].value_counts()"
   ]
  },
  {
   "cell_type": "code",
   "execution_count": 16,
   "metadata": {
    "ExecuteTime": {
     "end_time": "2024-03-02T18:36:21.925948Z",
     "start_time": "2024-03-02T18:36:21.907084Z"
    }
   },
   "outputs": [
    {
     "data": {
      "text/plain": "Airline            0\nDate_of_Journey    0\nSource             0\nDestination        0\nDep_Time           0\nTotal_Stops        1\nPrice              0\ndtype: int64"
     },
     "execution_count": 16,
     "metadata": {},
     "output_type": "execute_result"
    }
   ],
   "source": [
    "df.isnull().sum()"
   ]
  },
  {
   "cell_type": "code",
   "execution_count": 17,
   "metadata": {
    "ExecuteTime": {
     "end_time": "2024-03-02T18:36:24.402309Z",
     "start_time": "2024-03-02T18:36:24.391061Z"
    }
   },
   "outputs": [
    {
     "name": "stdout",
     "output_type": "stream",
     "text": [
      "(13354, 7)\n",
      "(13353, 7)\n"
     ]
    }
   ],
   "source": [
    "print(df.shape)\n",
    "df.dropna(inplace=True)\n",
    "print(df.shape)"
   ]
  },
  {
   "cell_type": "code",
   "execution_count": 18,
   "metadata": {
    "ExecuteTime": {
     "end_time": "2024-03-02T18:36:27.637356Z",
     "start_time": "2024-03-02T18:36:27.628075Z"
    }
   },
   "outputs": [
    {
     "data": {
      "text/plain": "       Airline Date_of_Journey    Source Destination Dep_Time Total_Stops  \\\n0       IndiGo      24/03/2019  Banglore   New Delhi    22:20    non-stop   \n1    Air India       1/05/2019   Kolkata    Banglore    05:50     2 stops   \n2  Jet Airways       9/06/2019     Delhi      Cochin    09:25     2 stops   \n3       IndiGo      12/05/2019   Kolkata    Banglore    18:05      1 stop   \n4       IndiGo      01/03/2019  Banglore   New Delhi    16:50      1 stop   \n\n   Price  \n0   3897  \n1   7662  \n2  13882  \n3   6218  \n4  13302  ",
      "text/html": "<div>\n<style scoped>\n    .dataframe tbody tr th:only-of-type {\n        vertical-align: middle;\n    }\n\n    .dataframe tbody tr th {\n        vertical-align: top;\n    }\n\n    .dataframe thead th {\n        text-align: right;\n    }\n</style>\n<table border=\"1\" class=\"dataframe\">\n  <thead>\n    <tr style=\"text-align: right;\">\n      <th></th>\n      <th>Airline</th>\n      <th>Date_of_Journey</th>\n      <th>Source</th>\n      <th>Destination</th>\n      <th>Dep_Time</th>\n      <th>Total_Stops</th>\n      <th>Price</th>\n    </tr>\n  </thead>\n  <tbody>\n    <tr>\n      <th>0</th>\n      <td>IndiGo</td>\n      <td>24/03/2019</td>\n      <td>Banglore</td>\n      <td>New Delhi</td>\n      <td>22:20</td>\n      <td>non-stop</td>\n      <td>3897</td>\n    </tr>\n    <tr>\n      <th>1</th>\n      <td>Air India</td>\n      <td>1/05/2019</td>\n      <td>Kolkata</td>\n      <td>Banglore</td>\n      <td>05:50</td>\n      <td>2 stops</td>\n      <td>7662</td>\n    </tr>\n    <tr>\n      <th>2</th>\n      <td>Jet Airways</td>\n      <td>9/06/2019</td>\n      <td>Delhi</td>\n      <td>Cochin</td>\n      <td>09:25</td>\n      <td>2 stops</td>\n      <td>13882</td>\n    </tr>\n    <tr>\n      <th>3</th>\n      <td>IndiGo</td>\n      <td>12/05/2019</td>\n      <td>Kolkata</td>\n      <td>Banglore</td>\n      <td>18:05</td>\n      <td>1 stop</td>\n      <td>6218</td>\n    </tr>\n    <tr>\n      <th>4</th>\n      <td>IndiGo</td>\n      <td>01/03/2019</td>\n      <td>Banglore</td>\n      <td>New Delhi</td>\n      <td>16:50</td>\n      <td>1 stop</td>\n      <td>13302</td>\n    </tr>\n  </tbody>\n</table>\n</div>"
     },
     "execution_count": 18,
     "metadata": {},
     "output_type": "execute_result"
    }
   ],
   "source": [
    "df.head()"
   ]
  },
  {
   "cell_type": "code",
   "execution_count": 19,
   "metadata": {
    "ExecuteTime": {
     "end_time": "2024-03-02T18:36:30.636807Z",
     "start_time": "2024-03-02T18:36:30.532457Z"
    }
   },
   "outputs": [],
   "source": [
    "df['Day']= df['Date_of_Journey'].str.split('/').str[0]\n",
    "df['Month']= df['Date_of_Journey'].str.split('/').str[1]\n",
    "df['Year']= df['Date_of_Journey'].str.split('/').str[2]"
   ]
  },
  {
   "cell_type": "code",
   "execution_count": 20,
   "metadata": {
    "ExecuteTime": {
     "end_time": "2024-03-02T18:36:36.280781Z",
     "start_time": "2024-03-02T18:36:36.268067Z"
    }
   },
   "outputs": [
    {
     "data": {
      "text/plain": "       Airline Date_of_Journey    Source Destination Dep_Time Total_Stops  \\\n0       IndiGo      24/03/2019  Banglore   New Delhi    22:20    non-stop   \n1    Air India       1/05/2019   Kolkata    Banglore    05:50     2 stops   \n2  Jet Airways       9/06/2019     Delhi      Cochin    09:25     2 stops   \n3       IndiGo      12/05/2019   Kolkata    Banglore    18:05      1 stop   \n4       IndiGo      01/03/2019  Banglore   New Delhi    16:50      1 stop   \n\n   Price Day Month  Year  \n0   3897  24    03  2019  \n1   7662   1    05  2019  \n2  13882   9    06  2019  \n3   6218  12    05  2019  \n4  13302  01    03  2019  ",
      "text/html": "<div>\n<style scoped>\n    .dataframe tbody tr th:only-of-type {\n        vertical-align: middle;\n    }\n\n    .dataframe tbody tr th {\n        vertical-align: top;\n    }\n\n    .dataframe thead th {\n        text-align: right;\n    }\n</style>\n<table border=\"1\" class=\"dataframe\">\n  <thead>\n    <tr style=\"text-align: right;\">\n      <th></th>\n      <th>Airline</th>\n      <th>Date_of_Journey</th>\n      <th>Source</th>\n      <th>Destination</th>\n      <th>Dep_Time</th>\n      <th>Total_Stops</th>\n      <th>Price</th>\n      <th>Day</th>\n      <th>Month</th>\n      <th>Year</th>\n    </tr>\n  </thead>\n  <tbody>\n    <tr>\n      <th>0</th>\n      <td>IndiGo</td>\n      <td>24/03/2019</td>\n      <td>Banglore</td>\n      <td>New Delhi</td>\n      <td>22:20</td>\n      <td>non-stop</td>\n      <td>3897</td>\n      <td>24</td>\n      <td>03</td>\n      <td>2019</td>\n    </tr>\n    <tr>\n      <th>1</th>\n      <td>Air India</td>\n      <td>1/05/2019</td>\n      <td>Kolkata</td>\n      <td>Banglore</td>\n      <td>05:50</td>\n      <td>2 stops</td>\n      <td>7662</td>\n      <td>1</td>\n      <td>05</td>\n      <td>2019</td>\n    </tr>\n    <tr>\n      <th>2</th>\n      <td>Jet Airways</td>\n      <td>9/06/2019</td>\n      <td>Delhi</td>\n      <td>Cochin</td>\n      <td>09:25</td>\n      <td>2 stops</td>\n      <td>13882</td>\n      <td>9</td>\n      <td>06</td>\n      <td>2019</td>\n    </tr>\n    <tr>\n      <th>3</th>\n      <td>IndiGo</td>\n      <td>12/05/2019</td>\n      <td>Kolkata</td>\n      <td>Banglore</td>\n      <td>18:05</td>\n      <td>1 stop</td>\n      <td>6218</td>\n      <td>12</td>\n      <td>05</td>\n      <td>2019</td>\n    </tr>\n    <tr>\n      <th>4</th>\n      <td>IndiGo</td>\n      <td>01/03/2019</td>\n      <td>Banglore</td>\n      <td>New Delhi</td>\n      <td>16:50</td>\n      <td>1 stop</td>\n      <td>13302</td>\n      <td>01</td>\n      <td>03</td>\n      <td>2019</td>\n    </tr>\n  </tbody>\n</table>\n</div>"
     },
     "execution_count": 20,
     "metadata": {},
     "output_type": "execute_result"
    }
   ],
   "source": [
    "df.head()"
   ]
  },
  {
   "cell_type": "code",
   "execution_count": 21,
   "metadata": {
    "ExecuteTime": {
     "end_time": "2024-03-02T18:36:39.100210Z",
     "start_time": "2024-03-02T18:36:39.072965Z"
    }
   },
   "outputs": [],
   "source": [
    "df['Total_Stops']=df['Total_Stops'].str.replace('non-','0 ')"
   ]
  },
  {
   "cell_type": "code",
   "execution_count": 22,
   "metadata": {
    "ExecuteTime": {
     "end_time": "2024-03-02T18:36:41.806572Z",
     "start_time": "2024-03-02T18:36:41.796372Z"
    }
   },
   "outputs": [
    {
     "data": {
      "text/plain": "       Airline Date_of_Journey    Source Destination Dep_Time Total_Stops  \\\n0       IndiGo      24/03/2019  Banglore   New Delhi    22:20      0 stop   \n1    Air India       1/05/2019   Kolkata    Banglore    05:50     2 stops   \n2  Jet Airways       9/06/2019     Delhi      Cochin    09:25     2 stops   \n3       IndiGo      12/05/2019   Kolkata    Banglore    18:05      1 stop   \n4       IndiGo      01/03/2019  Banglore   New Delhi    16:50      1 stop   \n\n   Price Day Month  Year  \n0   3897  24    03  2019  \n1   7662   1    05  2019  \n2  13882   9    06  2019  \n3   6218  12    05  2019  \n4  13302  01    03  2019  ",
      "text/html": "<div>\n<style scoped>\n    .dataframe tbody tr th:only-of-type {\n        vertical-align: middle;\n    }\n\n    .dataframe tbody tr th {\n        vertical-align: top;\n    }\n\n    .dataframe thead th {\n        text-align: right;\n    }\n</style>\n<table border=\"1\" class=\"dataframe\">\n  <thead>\n    <tr style=\"text-align: right;\">\n      <th></th>\n      <th>Airline</th>\n      <th>Date_of_Journey</th>\n      <th>Source</th>\n      <th>Destination</th>\n      <th>Dep_Time</th>\n      <th>Total_Stops</th>\n      <th>Price</th>\n      <th>Day</th>\n      <th>Month</th>\n      <th>Year</th>\n    </tr>\n  </thead>\n  <tbody>\n    <tr>\n      <th>0</th>\n      <td>IndiGo</td>\n      <td>24/03/2019</td>\n      <td>Banglore</td>\n      <td>New Delhi</td>\n      <td>22:20</td>\n      <td>0 stop</td>\n      <td>3897</td>\n      <td>24</td>\n      <td>03</td>\n      <td>2019</td>\n    </tr>\n    <tr>\n      <th>1</th>\n      <td>Air India</td>\n      <td>1/05/2019</td>\n      <td>Kolkata</td>\n      <td>Banglore</td>\n      <td>05:50</td>\n      <td>2 stops</td>\n      <td>7662</td>\n      <td>1</td>\n      <td>05</td>\n      <td>2019</td>\n    </tr>\n    <tr>\n      <th>2</th>\n      <td>Jet Airways</td>\n      <td>9/06/2019</td>\n      <td>Delhi</td>\n      <td>Cochin</td>\n      <td>09:25</td>\n      <td>2 stops</td>\n      <td>13882</td>\n      <td>9</td>\n      <td>06</td>\n      <td>2019</td>\n    </tr>\n    <tr>\n      <th>3</th>\n      <td>IndiGo</td>\n      <td>12/05/2019</td>\n      <td>Kolkata</td>\n      <td>Banglore</td>\n      <td>18:05</td>\n      <td>1 stop</td>\n      <td>6218</td>\n      <td>12</td>\n      <td>05</td>\n      <td>2019</td>\n    </tr>\n    <tr>\n      <th>4</th>\n      <td>IndiGo</td>\n      <td>01/03/2019</td>\n      <td>Banglore</td>\n      <td>New Delhi</td>\n      <td>16:50</td>\n      <td>1 stop</td>\n      <td>13302</td>\n      <td>01</td>\n      <td>03</td>\n      <td>2019</td>\n    </tr>\n  </tbody>\n</table>\n</div>"
     },
     "execution_count": 22,
     "metadata": {},
     "output_type": "execute_result"
    }
   ],
   "source": [
    "df.head()"
   ]
  },
  {
   "cell_type": "code",
   "execution_count": 24,
   "metadata": {
    "ExecuteTime": {
     "end_time": "2024-03-02T18:37:09.651252Z",
     "start_time": "2024-03-02T18:37:09.639420Z"
    }
   },
   "outputs": [
    {
     "name": "stdout",
     "output_type": "stream",
     "text": [
      "<class 'pandas.core.frame.DataFrame'>\n",
      "Index: 13353 entries, 0 to 2670\n",
      "Data columns (total 10 columns):\n",
      " #   Column           Non-Null Count  Dtype \n",
      "---  ------           --------------  ----- \n",
      " 0   Airline          13353 non-null  object\n",
      " 1   Date_of_Journey  13353 non-null  object\n",
      " 2   Source           13353 non-null  object\n",
      " 3   Destination      13353 non-null  object\n",
      " 4   Dep_Time         13353 non-null  object\n",
      " 5   Total_Stops      13353 non-null  object\n",
      " 6   Price            13353 non-null  int64 \n",
      " 7   Day              13353 non-null  object\n",
      " 8   Month            13353 non-null  object\n",
      " 9   Year             13353 non-null  object\n",
      "dtypes: int64(1), object(9)\n",
      "memory usage: 1.1+ MB\n"
     ]
    }
   ],
   "source": [
    "df.info()"
   ]
  },
  {
   "cell_type": "code",
   "execution_count": 25,
   "metadata": {
    "ExecuteTime": {
     "end_time": "2024-03-02T18:37:12.905773Z",
     "start_time": "2024-03-02T18:37:12.878758Z"
    }
   },
   "outputs": [
    {
     "data": {
      "text/plain": "       Airline Date_of_Journey    Source Destination Dep_Time Total_Stops  \\\n0       IndiGo      24/03/2019  Banglore   New Delhi    22:20      0 stop   \n1    Air India       1/05/2019   Kolkata    Banglore    05:50     2 stops   \n2  Jet Airways       9/06/2019     Delhi      Cochin    09:25     2 stops   \n3       IndiGo      12/05/2019   Kolkata    Banglore    18:05      1 stop   \n4       IndiGo      01/03/2019  Banglore   New Delhi    16:50      1 stop   \n\n   Price Day Month  Year Stops  \n0   3897  24    03  2019     0  \n1   7662   1    05  2019     2  \n2  13882   9    06  2019     2  \n3   6218  12    05  2019     1  \n4  13302  01    03  2019     1  ",
      "text/html": "<div>\n<style scoped>\n    .dataframe tbody tr th:only-of-type {\n        vertical-align: middle;\n    }\n\n    .dataframe tbody tr th {\n        vertical-align: top;\n    }\n\n    .dataframe thead th {\n        text-align: right;\n    }\n</style>\n<table border=\"1\" class=\"dataframe\">\n  <thead>\n    <tr style=\"text-align: right;\">\n      <th></th>\n      <th>Airline</th>\n      <th>Date_of_Journey</th>\n      <th>Source</th>\n      <th>Destination</th>\n      <th>Dep_Time</th>\n      <th>Total_Stops</th>\n      <th>Price</th>\n      <th>Day</th>\n      <th>Month</th>\n      <th>Year</th>\n      <th>Stops</th>\n    </tr>\n  </thead>\n  <tbody>\n    <tr>\n      <th>0</th>\n      <td>IndiGo</td>\n      <td>24/03/2019</td>\n      <td>Banglore</td>\n      <td>New Delhi</td>\n      <td>22:20</td>\n      <td>0 stop</td>\n      <td>3897</td>\n      <td>24</td>\n      <td>03</td>\n      <td>2019</td>\n      <td>0</td>\n    </tr>\n    <tr>\n      <th>1</th>\n      <td>Air India</td>\n      <td>1/05/2019</td>\n      <td>Kolkata</td>\n      <td>Banglore</td>\n      <td>05:50</td>\n      <td>2 stops</td>\n      <td>7662</td>\n      <td>1</td>\n      <td>05</td>\n      <td>2019</td>\n      <td>2</td>\n    </tr>\n    <tr>\n      <th>2</th>\n      <td>Jet Airways</td>\n      <td>9/06/2019</td>\n      <td>Delhi</td>\n      <td>Cochin</td>\n      <td>09:25</td>\n      <td>2 stops</td>\n      <td>13882</td>\n      <td>9</td>\n      <td>06</td>\n      <td>2019</td>\n      <td>2</td>\n    </tr>\n    <tr>\n      <th>3</th>\n      <td>IndiGo</td>\n      <td>12/05/2019</td>\n      <td>Kolkata</td>\n      <td>Banglore</td>\n      <td>18:05</td>\n      <td>1 stop</td>\n      <td>6218</td>\n      <td>12</td>\n      <td>05</td>\n      <td>2019</td>\n      <td>1</td>\n    </tr>\n    <tr>\n      <th>4</th>\n      <td>IndiGo</td>\n      <td>01/03/2019</td>\n      <td>Banglore</td>\n      <td>New Delhi</td>\n      <td>16:50</td>\n      <td>1 stop</td>\n      <td>13302</td>\n      <td>01</td>\n      <td>03</td>\n      <td>2019</td>\n      <td>1</td>\n    </tr>\n  </tbody>\n</table>\n</div>"
     },
     "execution_count": 25,
     "metadata": {},
     "output_type": "execute_result"
    }
   ],
   "source": [
    "df['Stops'] = df['Total_Stops'].str.split().str[0]\n",
    "df.head()"
   ]
  },
  {
   "cell_type": "markdown",
   "metadata": {},
   "source": [
    "  "
   ]
  },
  {
   "cell_type": "code",
   "execution_count": 26,
   "metadata": {
    "ExecuteTime": {
     "end_time": "2024-03-02T18:37:16.573080Z",
     "start_time": "2024-03-02T18:37:16.560327Z"
    }
   },
   "outputs": [],
   "source": [
    "df['Departure_Hour'] = df['Dep_Time'].str.split(':').str[0]\n",
    "df['Departure_Minute'] = df['Dep_Time'].str.split(':').str[1]"
   ]
  },
  {
   "cell_type": "code",
   "execution_count": 27,
   "metadata": {
    "ExecuteTime": {
     "end_time": "2024-03-02T18:37:19.698599Z",
     "start_time": "2024-03-02T18:37:19.688616Z"
    }
   },
   "outputs": [
    {
     "data": {
      "text/plain": "       Airline Date_of_Journey    Source Destination Dep_Time Total_Stops  \\\n0       IndiGo      24/03/2019  Banglore   New Delhi    22:20      0 stop   \n1    Air India       1/05/2019   Kolkata    Banglore    05:50     2 stops   \n2  Jet Airways       9/06/2019     Delhi      Cochin    09:25     2 stops   \n3       IndiGo      12/05/2019   Kolkata    Banglore    18:05      1 stop   \n4       IndiGo      01/03/2019  Banglore   New Delhi    16:50      1 stop   \n\n   Price Day Month  Year Stops Departure_Hour Departure_Minute  \n0   3897  24    03  2019     0             22               20  \n1   7662   1    05  2019     2             05               50  \n2  13882   9    06  2019     2             09               25  \n3   6218  12    05  2019     1             18               05  \n4  13302  01    03  2019     1             16               50  ",
      "text/html": "<div>\n<style scoped>\n    .dataframe tbody tr th:only-of-type {\n        vertical-align: middle;\n    }\n\n    .dataframe tbody tr th {\n        vertical-align: top;\n    }\n\n    .dataframe thead th {\n        text-align: right;\n    }\n</style>\n<table border=\"1\" class=\"dataframe\">\n  <thead>\n    <tr style=\"text-align: right;\">\n      <th></th>\n      <th>Airline</th>\n      <th>Date_of_Journey</th>\n      <th>Source</th>\n      <th>Destination</th>\n      <th>Dep_Time</th>\n      <th>Total_Stops</th>\n      <th>Price</th>\n      <th>Day</th>\n      <th>Month</th>\n      <th>Year</th>\n      <th>Stops</th>\n      <th>Departure_Hour</th>\n      <th>Departure_Minute</th>\n    </tr>\n  </thead>\n  <tbody>\n    <tr>\n      <th>0</th>\n      <td>IndiGo</td>\n      <td>24/03/2019</td>\n      <td>Banglore</td>\n      <td>New Delhi</td>\n      <td>22:20</td>\n      <td>0 stop</td>\n      <td>3897</td>\n      <td>24</td>\n      <td>03</td>\n      <td>2019</td>\n      <td>0</td>\n      <td>22</td>\n      <td>20</td>\n    </tr>\n    <tr>\n      <th>1</th>\n      <td>Air India</td>\n      <td>1/05/2019</td>\n      <td>Kolkata</td>\n      <td>Banglore</td>\n      <td>05:50</td>\n      <td>2 stops</td>\n      <td>7662</td>\n      <td>1</td>\n      <td>05</td>\n      <td>2019</td>\n      <td>2</td>\n      <td>05</td>\n      <td>50</td>\n    </tr>\n    <tr>\n      <th>2</th>\n      <td>Jet Airways</td>\n      <td>9/06/2019</td>\n      <td>Delhi</td>\n      <td>Cochin</td>\n      <td>09:25</td>\n      <td>2 stops</td>\n      <td>13882</td>\n      <td>9</td>\n      <td>06</td>\n      <td>2019</td>\n      <td>2</td>\n      <td>09</td>\n      <td>25</td>\n    </tr>\n    <tr>\n      <th>3</th>\n      <td>IndiGo</td>\n      <td>12/05/2019</td>\n      <td>Kolkata</td>\n      <td>Banglore</td>\n      <td>18:05</td>\n      <td>1 stop</td>\n      <td>6218</td>\n      <td>12</td>\n      <td>05</td>\n      <td>2019</td>\n      <td>1</td>\n      <td>18</td>\n      <td>05</td>\n    </tr>\n    <tr>\n      <th>4</th>\n      <td>IndiGo</td>\n      <td>01/03/2019</td>\n      <td>Banglore</td>\n      <td>New Delhi</td>\n      <td>16:50</td>\n      <td>1 stop</td>\n      <td>13302</td>\n      <td>01</td>\n      <td>03</td>\n      <td>2019</td>\n      <td>1</td>\n      <td>16</td>\n      <td>50</td>\n    </tr>\n  </tbody>\n</table>\n</div>"
     },
     "execution_count": 27,
     "metadata": {},
     "output_type": "execute_result"
    }
   ],
   "source": [
    "df.head()"
   ]
  },
  {
   "cell_type": "code",
   "execution_count": 28,
   "metadata": {
    "ExecuteTime": {
     "end_time": "2024-03-02T18:37:22.448563Z",
     "start_time": "2024-03-02T18:37:22.434250Z"
    }
   },
   "outputs": [],
   "source": [
    "#Converting the datatype o newly created features \n",
    "df['Day'] = df['Day'].astype(int)\n",
    "df['Month'] = df['Month'].astype(int)\n",
    "df['Year'] = df['Year'].astype(int)\n",
    "df['Stops'] = df['Stops'].astype(int)\n",
    "df['Departure_Hour'] = df['Departure_Hour'].astype(int)\n",
    "df['Departure_Minute'] = df['Departure_Minute'].astype(int)"
   ]
  },
  {
   "cell_type": "code",
   "execution_count": 29,
   "metadata": {
    "ExecuteTime": {
     "end_time": "2024-03-02T18:37:25.696746Z",
     "start_time": "2024-03-02T18:37:25.686044Z"
    }
   },
   "outputs": [
    {
     "name": "stdout",
     "output_type": "stream",
     "text": [
      "<class 'pandas.core.frame.DataFrame'>\n",
      "Index: 13353 entries, 0 to 2670\n",
      "Data columns (total 13 columns):\n",
      " #   Column            Non-Null Count  Dtype \n",
      "---  ------            --------------  ----- \n",
      " 0   Airline           13353 non-null  object\n",
      " 1   Date_of_Journey   13353 non-null  object\n",
      " 2   Source            13353 non-null  object\n",
      " 3   Destination       13353 non-null  object\n",
      " 4   Dep_Time          13353 non-null  object\n",
      " 5   Total_Stops       13353 non-null  object\n",
      " 6   Price             13353 non-null  int64 \n",
      " 7   Day               13353 non-null  int64 \n",
      " 8   Month             13353 non-null  int64 \n",
      " 9   Year              13353 non-null  int64 \n",
      " 10  Stops             13353 non-null  int64 \n",
      " 11  Departure_Hour    13353 non-null  int64 \n",
      " 12  Departure_Minute  13353 non-null  int64 \n",
      "dtypes: int64(7), object(6)\n",
      "memory usage: 1.4+ MB\n"
     ]
    }
   ],
   "source": [
    "df.info()"
   ]
  },
  {
   "cell_type": "code",
   "execution_count": 30,
   "metadata": {
    "ExecuteTime": {
     "end_time": "2024-03-02T18:37:30.966704Z",
     "start_time": "2024-03-02T18:37:30.946701Z"
    }
   },
   "outputs": [
    {
     "data": {
      "text/plain": "       Airline    Source Destination  Price  Day  Month  Year  Stops  \\\n0       IndiGo  Banglore   New Delhi   3897   24      3  2019      0   \n1    Air India   Kolkata    Banglore   7662    1      5  2019      2   \n2  Jet Airways     Delhi      Cochin  13882    9      6  2019      2   \n3       IndiGo   Kolkata    Banglore   6218   12      5  2019      1   \n4       IndiGo  Banglore   New Delhi  13302    1      3  2019      1   \n\n   Departure_Hour  Departure_Minute  \n0              22                20  \n1               5                50  \n2               9                25  \n3              18                 5  \n4              16                50  ",
      "text/html": "<div>\n<style scoped>\n    .dataframe tbody tr th:only-of-type {\n        vertical-align: middle;\n    }\n\n    .dataframe tbody tr th {\n        vertical-align: top;\n    }\n\n    .dataframe thead th {\n        text-align: right;\n    }\n</style>\n<table border=\"1\" class=\"dataframe\">\n  <thead>\n    <tr style=\"text-align: right;\">\n      <th></th>\n      <th>Airline</th>\n      <th>Source</th>\n      <th>Destination</th>\n      <th>Price</th>\n      <th>Day</th>\n      <th>Month</th>\n      <th>Year</th>\n      <th>Stops</th>\n      <th>Departure_Hour</th>\n      <th>Departure_Minute</th>\n    </tr>\n  </thead>\n  <tbody>\n    <tr>\n      <th>0</th>\n      <td>IndiGo</td>\n      <td>Banglore</td>\n      <td>New Delhi</td>\n      <td>3897</td>\n      <td>24</td>\n      <td>3</td>\n      <td>2019</td>\n      <td>0</td>\n      <td>22</td>\n      <td>20</td>\n    </tr>\n    <tr>\n      <th>1</th>\n      <td>Air India</td>\n      <td>Kolkata</td>\n      <td>Banglore</td>\n      <td>7662</td>\n      <td>1</td>\n      <td>5</td>\n      <td>2019</td>\n      <td>2</td>\n      <td>5</td>\n      <td>50</td>\n    </tr>\n    <tr>\n      <th>2</th>\n      <td>Jet Airways</td>\n      <td>Delhi</td>\n      <td>Cochin</td>\n      <td>13882</td>\n      <td>9</td>\n      <td>6</td>\n      <td>2019</td>\n      <td>2</td>\n      <td>9</td>\n      <td>25</td>\n    </tr>\n    <tr>\n      <th>3</th>\n      <td>IndiGo</td>\n      <td>Kolkata</td>\n      <td>Banglore</td>\n      <td>6218</td>\n      <td>12</td>\n      <td>5</td>\n      <td>2019</td>\n      <td>1</td>\n      <td>18</td>\n      <td>5</td>\n    </tr>\n    <tr>\n      <th>4</th>\n      <td>IndiGo</td>\n      <td>Banglore</td>\n      <td>New Delhi</td>\n      <td>13302</td>\n      <td>1</td>\n      <td>3</td>\n      <td>2019</td>\n      <td>1</td>\n      <td>16</td>\n      <td>50</td>\n    </tr>\n  </tbody>\n</table>\n</div>"
     },
     "execution_count": 30,
     "metadata": {},
     "output_type": "execute_result"
    }
   ],
   "source": [
    "#Now droping the parent features since we don't need them \n",
    "df.drop(['Date_of_Journey','Dep_Time','Total_Stops'],axis=1,inplace=True)\n",
    "df.head()"
   ]
  },
  {
   "cell_type": "code",
   "execution_count": 31,
   "metadata": {
    "scrolled": true,
    "ExecuteTime": {
     "end_time": "2024-03-02T18:37:34.494891Z",
     "start_time": "2024-03-02T18:37:34.486032Z"
    }
   },
   "outputs": [
    {
     "data": {
      "text/plain": "Index(['Jet Airways', 'IndiGo', 'Air India', 'Multiple carriers', 'SpiceJet',\n       'Vistara', 'Air Asia', 'GoAir', 'Multiple carriers Premium economy',\n       'Jet Airways Business', 'Vistara Premium economy', 'Trujet'],\n      dtype='object', name='Airline')"
     },
     "execution_count": 31,
     "metadata": {},
     "output_type": "execute_result"
    }
   ],
   "source": [
    "df.Airline.value_counts().index"
   ]
  },
  {
   "cell_type": "code",
   "execution_count": 32,
   "metadata": {
    "ExecuteTime": {
     "end_time": "2024-03-02T18:37:37.074353Z",
     "start_time": "2024-03-02T18:37:37.064052Z"
    }
   },
   "outputs": [
    {
     "data": {
      "text/plain": "{'Banglore': 0, 'Chennai': 1, 'Delhi': 2, 'Kolkata': 3, 'Mumbai': 4}"
     },
     "execution_count": 32,
     "metadata": {},
     "output_type": "execute_result"
    }
   ],
   "source": [
    "source_dict = {y:x for x,y in enumerate(df.Source.value_counts().index.sort_values())}\n",
    "source_dict"
   ]
  },
  {
   "cell_type": "code",
   "execution_count": 33,
   "metadata": {
    "ExecuteTime": {
     "end_time": "2024-03-02T18:37:40.182314Z",
     "start_time": "2024-03-02T18:37:40.170503Z"
    }
   },
   "outputs": [
    {
     "data": {
      "text/plain": "Index(['Banglore', 'Cochin', 'Delhi', 'Hyderabad', 'Kolkata', 'New Delhi'], dtype='object', name='Destination')"
     },
     "execution_count": 33,
     "metadata": {},
     "output_type": "execute_result"
    }
   ],
   "source": [
    "df.Destination.value_counts().index.sort_values()"
   ]
  },
  {
   "cell_type": "code",
   "execution_count": 34,
   "metadata": {
    "ExecuteTime": {
     "end_time": "2024-03-02T18:37:42.996908Z",
     "start_time": "2024-03-02T18:37:42.986693Z"
    }
   },
   "outputs": [],
   "source": [
    "destination_dict = {'Banglore':0,'Cochin':1,'Delhi':2,'Kolkata': 3,'Hyderabad':4,'New Delhi':5}"
   ]
  },
  {
   "cell_type": "code",
   "execution_count": 35,
   "metadata": {
    "ExecuteTime": {
     "end_time": "2024-03-02T18:37:45.172310Z",
     "start_time": "2024-03-02T18:37:45.056276Z"
    }
   },
   "outputs": [
    {
     "name": "stdout",
     "output_type": "stream",
     "text": [
      "{'IndiGo': 3, 'Air India': 1, 'Jet Airways': 4, 'SpiceJet': 8, 'Multiple carriers': 6, 'GoAir': 2, 'Vistara': 10, 'Air Asia': 0, 'Vistara Premium economy': 11, 'Jet Airways Business': 5, 'Multiple carriers Premium economy': 7, 'Trujet': 9}\n"
     ]
    }
   ],
   "source": [
    "from sklearn.preprocessing import LabelEncoder\n",
    "le=LabelEncoder()\n",
    "df['Airline_Encoded']= le.fit_transform(df['Airline'].values)\n",
    "\n",
    "df3 = df[['Airline']].copy()\n",
    "df3['Encoded']=df['Airline_Encoded']\n",
    "df3=df3.drop_duplicates('Airline').reset_index().iloc[:,1:]\n",
    "d5=df3.Airline.values\n",
    "d6=df3.Encoded.values\n",
    "airline_dict = dict(zip(d5,d6))\n",
    "\n",
    "print(airline_dict)"
   ]
  },
  {
   "cell_type": "code",
   "execution_count": 36,
   "metadata": {
    "ExecuteTime": {
     "end_time": "2024-03-02T18:37:47.839758Z",
     "start_time": "2024-03-02T18:37:47.827414Z"
    }
   },
   "outputs": [],
   "source": [
    "df['Source_Encoded']=df['Source'].map(source_dict)\n",
    "df['Destination_Encoded']=df['Destination'].map(destination_dict)"
   ]
  },
  {
   "cell_type": "code",
   "execution_count": null,
   "metadata": {},
   "outputs": [],
   "source": []
  },
  {
   "cell_type": "code",
   "execution_count": 37,
   "metadata": {
    "ExecuteTime": {
     "end_time": "2024-03-02T18:37:50.821881Z",
     "start_time": "2024-03-02T18:37:50.816466Z"
    }
   },
   "outputs": [],
   "source": [
    "\n",
    "# df['Source_Encoded'] = le.fit_transform(df['Source'].values)\n",
    "# df['Destination_Encoded'] = le.fit_transform(df['Destination'].values)\n",
    "\n",
    "# #Now for keeping record of which source or destination city has been assigned which label we will implement following code\n",
    "\n",
    "# df1=df[['Source']].copy()    ##creating new dataframe\n",
    "# df1['Encoded']=df['Source_Encoded']\n",
    "# df1=df1.drop_duplicates('Source').reset_index().iloc[:,1:]\n",
    "# d1=df1.Source.values\n",
    "# d2=df1.Encoded.values\n",
    "# source_dict = dict(zip(d1,d2))\n",
    "\n",
    "# df2 = df[['Destination']].copy()\n",
    "# df2['Encoded']=df['Destination_Encoded']\n",
    "# df2=df2.drop_duplicates('Destination').reset_index().iloc[:,1:]\n",
    "# d3=df2.Destination.values\n",
    "# d4=df2.Encoded.values\n",
    "# destination_dict = dict(zip(d3,d4))\n",
    "\n",
    "\n",
    "\n",
    "# print(source_dict)\n",
    "# print(destination_dict)\n"
   ]
  },
  {
   "cell_type": "code",
   "execution_count": 38,
   "metadata": {
    "ExecuteTime": {
     "end_time": "2024-03-02T18:37:54.060444Z",
     "start_time": "2024-03-02T18:37:54.054300Z"
    }
   },
   "outputs": [
    {
     "data": {
      "text/plain": "       Airline    Source Destination  Price  Day  Month  Year  Stops  \\\n0       IndiGo  Banglore   New Delhi   3897   24      3  2019      0   \n1    Air India   Kolkata    Banglore   7662    1      5  2019      2   \n2  Jet Airways     Delhi      Cochin  13882    9      6  2019      2   \n3       IndiGo   Kolkata    Banglore   6218   12      5  2019      1   \n4       IndiGo  Banglore   New Delhi  13302    1      3  2019      1   \n\n   Departure_Hour  Departure_Minute  Airline_Encoded  Source_Encoded  \\\n0              22                20                3               0   \n1               5                50                1               3   \n2               9                25                4               2   \n3              18                 5                3               3   \n4              16                50                3               0   \n\n   Destination_Encoded  \n0                    5  \n1                    0  \n2                    1  \n3                    0  \n4                    5  ",
      "text/html": "<div>\n<style scoped>\n    .dataframe tbody tr th:only-of-type {\n        vertical-align: middle;\n    }\n\n    .dataframe tbody tr th {\n        vertical-align: top;\n    }\n\n    .dataframe thead th {\n        text-align: right;\n    }\n</style>\n<table border=\"1\" class=\"dataframe\">\n  <thead>\n    <tr style=\"text-align: right;\">\n      <th></th>\n      <th>Airline</th>\n      <th>Source</th>\n      <th>Destination</th>\n      <th>Price</th>\n      <th>Day</th>\n      <th>Month</th>\n      <th>Year</th>\n      <th>Stops</th>\n      <th>Departure_Hour</th>\n      <th>Departure_Minute</th>\n      <th>Airline_Encoded</th>\n      <th>Source_Encoded</th>\n      <th>Destination_Encoded</th>\n    </tr>\n  </thead>\n  <tbody>\n    <tr>\n      <th>0</th>\n      <td>IndiGo</td>\n      <td>Banglore</td>\n      <td>New Delhi</td>\n      <td>3897</td>\n      <td>24</td>\n      <td>3</td>\n      <td>2019</td>\n      <td>0</td>\n      <td>22</td>\n      <td>20</td>\n      <td>3</td>\n      <td>0</td>\n      <td>5</td>\n    </tr>\n    <tr>\n      <th>1</th>\n      <td>Air India</td>\n      <td>Kolkata</td>\n      <td>Banglore</td>\n      <td>7662</td>\n      <td>1</td>\n      <td>5</td>\n      <td>2019</td>\n      <td>2</td>\n      <td>5</td>\n      <td>50</td>\n      <td>1</td>\n      <td>3</td>\n      <td>0</td>\n    </tr>\n    <tr>\n      <th>2</th>\n      <td>Jet Airways</td>\n      <td>Delhi</td>\n      <td>Cochin</td>\n      <td>13882</td>\n      <td>9</td>\n      <td>6</td>\n      <td>2019</td>\n      <td>2</td>\n      <td>9</td>\n      <td>25</td>\n      <td>4</td>\n      <td>2</td>\n      <td>1</td>\n    </tr>\n    <tr>\n      <th>3</th>\n      <td>IndiGo</td>\n      <td>Kolkata</td>\n      <td>Banglore</td>\n      <td>6218</td>\n      <td>12</td>\n      <td>5</td>\n      <td>2019</td>\n      <td>1</td>\n      <td>18</td>\n      <td>5</td>\n      <td>3</td>\n      <td>3</td>\n      <td>0</td>\n    </tr>\n    <tr>\n      <th>4</th>\n      <td>IndiGo</td>\n      <td>Banglore</td>\n      <td>New Delhi</td>\n      <td>13302</td>\n      <td>1</td>\n      <td>3</td>\n      <td>2019</td>\n      <td>1</td>\n      <td>16</td>\n      <td>50</td>\n      <td>3</td>\n      <td>0</td>\n      <td>5</td>\n    </tr>\n  </tbody>\n</table>\n</div>"
     },
     "execution_count": 38,
     "metadata": {},
     "output_type": "execute_result"
    }
   ],
   "source": [
    "df.head()"
   ]
  },
  {
   "cell_type": "code",
   "execution_count": 39,
   "metadata": {
    "ExecuteTime": {
     "end_time": "2024-03-02T18:37:56.759192Z",
     "start_time": "2024-03-02T18:37:56.748377Z"
    }
   },
   "outputs": [
    {
     "data": {
      "text/plain": "   Price  Day  Month  Year  Stops  Departure_Hour  Departure_Minute  \\\n0   3897   24      3  2019      0              22                20   \n1   7662    1      5  2019      2               5                50   \n2  13882    9      6  2019      2               9                25   \n3   6218   12      5  2019      1              18                 5   \n4  13302    1      3  2019      1              16                50   \n\n   Airline_Encoded  Source_Encoded  Destination_Encoded  \n0                3               0                    5  \n1                1               3                    0  \n2                4               2                    1  \n3                3               3                    0  \n4                3               0                    5  ",
      "text/html": "<div>\n<style scoped>\n    .dataframe tbody tr th:only-of-type {\n        vertical-align: middle;\n    }\n\n    .dataframe tbody tr th {\n        vertical-align: top;\n    }\n\n    .dataframe thead th {\n        text-align: right;\n    }\n</style>\n<table border=\"1\" class=\"dataframe\">\n  <thead>\n    <tr style=\"text-align: right;\">\n      <th></th>\n      <th>Price</th>\n      <th>Day</th>\n      <th>Month</th>\n      <th>Year</th>\n      <th>Stops</th>\n      <th>Departure_Hour</th>\n      <th>Departure_Minute</th>\n      <th>Airline_Encoded</th>\n      <th>Source_Encoded</th>\n      <th>Destination_Encoded</th>\n    </tr>\n  </thead>\n  <tbody>\n    <tr>\n      <th>0</th>\n      <td>3897</td>\n      <td>24</td>\n      <td>3</td>\n      <td>2019</td>\n      <td>0</td>\n      <td>22</td>\n      <td>20</td>\n      <td>3</td>\n      <td>0</td>\n      <td>5</td>\n    </tr>\n    <tr>\n      <th>1</th>\n      <td>7662</td>\n      <td>1</td>\n      <td>5</td>\n      <td>2019</td>\n      <td>2</td>\n      <td>5</td>\n      <td>50</td>\n      <td>1</td>\n      <td>3</td>\n      <td>0</td>\n    </tr>\n    <tr>\n      <th>2</th>\n      <td>13882</td>\n      <td>9</td>\n      <td>6</td>\n      <td>2019</td>\n      <td>2</td>\n      <td>9</td>\n      <td>25</td>\n      <td>4</td>\n      <td>2</td>\n      <td>1</td>\n    </tr>\n    <tr>\n      <th>3</th>\n      <td>6218</td>\n      <td>12</td>\n      <td>5</td>\n      <td>2019</td>\n      <td>1</td>\n      <td>18</td>\n      <td>5</td>\n      <td>3</td>\n      <td>3</td>\n      <td>0</td>\n    </tr>\n    <tr>\n      <th>4</th>\n      <td>13302</td>\n      <td>1</td>\n      <td>3</td>\n      <td>2019</td>\n      <td>1</td>\n      <td>16</td>\n      <td>50</td>\n      <td>3</td>\n      <td>0</td>\n      <td>5</td>\n    </tr>\n  </tbody>\n</table>\n</div>"
     },
     "execution_count": 39,
     "metadata": {},
     "output_type": "execute_result"
    }
   ],
   "source": [
    "df = df.drop(['Airline','Source','Destination'],axis=1)\n",
    "df.head()"
   ]
  },
  {
   "cell_type": "markdown",
   "metadata": {},
   "source": [
    "### Feature Selection"
   ]
  },
  {
   "cell_type": "code",
   "execution_count": 40,
   "metadata": {
    "ExecuteTime": {
     "end_time": "2024-03-02T18:37:59.383923Z",
     "start_time": "2024-03-02T18:37:59.249866Z"
    }
   },
   "outputs": [],
   "source": [
    "from sklearn.linear_model import Lasso\n",
    "from sklearn.feature_selection import SelectFromModel \n",
    "from sklearn.model_selection import train_test_split"
   ]
  },
  {
   "cell_type": "code",
   "execution_count": 41,
   "metadata": {
    "ExecuteTime": {
     "end_time": "2024-03-02T18:38:01.616910Z",
     "start_time": "2024-03-02T18:38:01.608490Z"
    }
   },
   "outputs": [
    {
     "data": {
      "text/plain": "(13353, 10)"
     },
     "execution_count": 41,
     "metadata": {},
     "output_type": "execute_result"
    }
   ],
   "source": [
    "df.shape"
   ]
  },
  {
   "cell_type": "code",
   "execution_count": 42,
   "metadata": {
    "ExecuteTime": {
     "end_time": "2024-03-02T18:38:04.088594Z",
     "start_time": "2024-03-02T18:38:04.077241Z"
    }
   },
   "outputs": [],
   "source": [
    "df_train = df[0:10600]\n",
    "df_test = df[10600:]"
   ]
  },
  {
   "cell_type": "code",
   "execution_count": 43,
   "metadata": {
    "ExecuteTime": {
     "end_time": "2024-03-02T18:38:05.902642Z",
     "start_time": "2024-03-02T18:38:05.893218Z"
    }
   },
   "outputs": [],
   "source": [
    "X = df_train.drop(['Price'],axis=1)\n",
    "y = df_train.Price"
   ]
  },
  {
   "cell_type": "code",
   "execution_count": 44,
   "metadata": {
    "ExecuteTime": {
     "end_time": "2024-03-02T18:38:12.520580Z",
     "start_time": "2024-03-02T18:38:12.112610Z"
    }
   },
   "outputs": [],
   "source": [
    "X_train, X_test, y_train, y_test = train_test_split(X, y, test_size=0.3, random_state=0)"
   ]
  },
  {
   "cell_type": "code",
   "execution_count": 45,
   "metadata": {
    "ExecuteTime": {
     "end_time": "2024-03-02T18:38:12.682960Z",
     "start_time": "2024-03-02T18:38:12.129749Z"
    }
   },
   "outputs": [
    {
     "data": {
      "text/plain": "SelectFromModel(estimator=Lasso(alpha=0.005, random_state=0))",
      "text/html": "<style>#sk-container-id-1 {\n  /* Definition of color scheme common for light and dark mode */\n  --sklearn-color-text: black;\n  --sklearn-color-line: gray;\n  /* Definition of color scheme for unfitted estimators */\n  --sklearn-color-unfitted-level-0: #fff5e6;\n  --sklearn-color-unfitted-level-1: #f6e4d2;\n  --sklearn-color-unfitted-level-2: #ffe0b3;\n  --sklearn-color-unfitted-level-3: chocolate;\n  /* Definition of color scheme for fitted estimators */\n  --sklearn-color-fitted-level-0: #f0f8ff;\n  --sklearn-color-fitted-level-1: #d4ebff;\n  --sklearn-color-fitted-level-2: #b3dbfd;\n  --sklearn-color-fitted-level-3: cornflowerblue;\n\n  /* Specific color for light theme */\n  --sklearn-color-text-on-default-background: var(--sg-text-color, var(--theme-code-foreground, var(--jp-content-font-color1, black)));\n  --sklearn-color-background: var(--sg-background-color, var(--theme-background, var(--jp-layout-color0, white)));\n  --sklearn-color-border-box: var(--sg-text-color, var(--theme-code-foreground, var(--jp-content-font-color1, black)));\n  --sklearn-color-icon: #696969;\n\n  @media (prefers-color-scheme: dark) {\n    /* Redefinition of color scheme for dark theme */\n    --sklearn-color-text-on-default-background: var(--sg-text-color, var(--theme-code-foreground, var(--jp-content-font-color1, white)));\n    --sklearn-color-background: var(--sg-background-color, var(--theme-background, var(--jp-layout-color0, #111)));\n    --sklearn-color-border-box: var(--sg-text-color, var(--theme-code-foreground, var(--jp-content-font-color1, white)));\n    --sklearn-color-icon: #878787;\n  }\n}\n\n#sk-container-id-1 {\n  color: var(--sklearn-color-text);\n}\n\n#sk-container-id-1 pre {\n  padding: 0;\n}\n\n#sk-container-id-1 input.sk-hidden--visually {\n  border: 0;\n  clip: rect(1px 1px 1px 1px);\n  clip: rect(1px, 1px, 1px, 1px);\n  height: 1px;\n  margin: -1px;\n  overflow: hidden;\n  padding: 0;\n  position: absolute;\n  width: 1px;\n}\n\n#sk-container-id-1 div.sk-dashed-wrapped {\n  border: 1px dashed var(--sklearn-color-line);\n  margin: 0 0.4em 0.5em 0.4em;\n  box-sizing: border-box;\n  padding-bottom: 0.4em;\n  background-color: var(--sklearn-color-background);\n}\n\n#sk-container-id-1 div.sk-container {\n  /* jupyter's `normalize.less` sets `[hidden] { display: none; }`\n     but bootstrap.min.css set `[hidden] { display: none !important; }`\n     so we also need the `!important` here to be able to override the\n     default hidden behavior on the sphinx rendered scikit-learn.org.\n     See: https://github.com/scikit-learn/scikit-learn/issues/21755 */\n  display: inline-block !important;\n  position: relative;\n}\n\n#sk-container-id-1 div.sk-text-repr-fallback {\n  display: none;\n}\n\ndiv.sk-parallel-item,\ndiv.sk-serial,\ndiv.sk-item {\n  /* draw centered vertical line to link estimators */\n  background-image: linear-gradient(var(--sklearn-color-text-on-default-background), var(--sklearn-color-text-on-default-background));\n  background-size: 2px 100%;\n  background-repeat: no-repeat;\n  background-position: center center;\n}\n\n/* Parallel-specific style estimator block */\n\n#sk-container-id-1 div.sk-parallel-item::after {\n  content: \"\";\n  width: 100%;\n  border-bottom: 2px solid var(--sklearn-color-text-on-default-background);\n  flex-grow: 1;\n}\n\n#sk-container-id-1 div.sk-parallel {\n  display: flex;\n  align-items: stretch;\n  justify-content: center;\n  background-color: var(--sklearn-color-background);\n  position: relative;\n}\n\n#sk-container-id-1 div.sk-parallel-item {\n  display: flex;\n  flex-direction: column;\n}\n\n#sk-container-id-1 div.sk-parallel-item:first-child::after {\n  align-self: flex-end;\n  width: 50%;\n}\n\n#sk-container-id-1 div.sk-parallel-item:last-child::after {\n  align-self: flex-start;\n  width: 50%;\n}\n\n#sk-container-id-1 div.sk-parallel-item:only-child::after {\n  width: 0;\n}\n\n/* Serial-specific style estimator block */\n\n#sk-container-id-1 div.sk-serial {\n  display: flex;\n  flex-direction: column;\n  align-items: center;\n  background-color: var(--sklearn-color-background);\n  padding-right: 1em;\n  padding-left: 1em;\n}\n\n\n/* Toggleable style: style used for estimator/Pipeline/ColumnTransformer box that is\nclickable and can be expanded/collapsed.\n- Pipeline and ColumnTransformer use this feature and define the default style\n- Estimators will overwrite some part of the style using the `sk-estimator` class\n*/\n\n/* Pipeline and ColumnTransformer style (default) */\n\n#sk-container-id-1 div.sk-toggleable {\n  /* Default theme specific background. It is overwritten whether we have a\n  specific estimator or a Pipeline/ColumnTransformer */\n  background-color: var(--sklearn-color-background);\n}\n\n/* Toggleable label */\n#sk-container-id-1 label.sk-toggleable__label {\n  cursor: pointer;\n  display: block;\n  width: 100%;\n  margin-bottom: 0;\n  padding: 0.5em;\n  box-sizing: border-box;\n  text-align: center;\n}\n\n#sk-container-id-1 label.sk-toggleable__label-arrow:before {\n  /* Arrow on the left of the label */\n  content: \"▸\";\n  float: left;\n  margin-right: 0.25em;\n  color: var(--sklearn-color-icon);\n}\n\n#sk-container-id-1 label.sk-toggleable__label-arrow:hover:before {\n  color: var(--sklearn-color-text);\n}\n\n/* Toggleable content - dropdown */\n\n#sk-container-id-1 div.sk-toggleable__content {\n  max-height: 0;\n  max-width: 0;\n  overflow: hidden;\n  text-align: left;\n  /* unfitted */\n  background-color: var(--sklearn-color-unfitted-level-0);\n}\n\n#sk-container-id-1 div.sk-toggleable__content.fitted {\n  /* fitted */\n  background-color: var(--sklearn-color-fitted-level-0);\n}\n\n#sk-container-id-1 div.sk-toggleable__content pre {\n  margin: 0.2em;\n  border-radius: 0.25em;\n  color: var(--sklearn-color-text);\n  /* unfitted */\n  background-color: var(--sklearn-color-unfitted-level-0);\n}\n\n#sk-container-id-1 div.sk-toggleable__content.fitted pre {\n  /* unfitted */\n  background-color: var(--sklearn-color-fitted-level-0);\n}\n\n#sk-container-id-1 input.sk-toggleable__control:checked~div.sk-toggleable__content {\n  /* Expand drop-down */\n  max-height: 200px;\n  max-width: 100%;\n  overflow: auto;\n}\n\n#sk-container-id-1 input.sk-toggleable__control:checked~label.sk-toggleable__label-arrow:before {\n  content: \"▾\";\n}\n\n/* Pipeline/ColumnTransformer-specific style */\n\n#sk-container-id-1 div.sk-label input.sk-toggleable__control:checked~label.sk-toggleable__label {\n  color: var(--sklearn-color-text);\n  background-color: var(--sklearn-color-unfitted-level-2);\n}\n\n#sk-container-id-1 div.sk-label.fitted input.sk-toggleable__control:checked~label.sk-toggleable__label {\n  background-color: var(--sklearn-color-fitted-level-2);\n}\n\n/* Estimator-specific style */\n\n/* Colorize estimator box */\n#sk-container-id-1 div.sk-estimator input.sk-toggleable__control:checked~label.sk-toggleable__label {\n  /* unfitted */\n  background-color: var(--sklearn-color-unfitted-level-2);\n}\n\n#sk-container-id-1 div.sk-estimator.fitted input.sk-toggleable__control:checked~label.sk-toggleable__label {\n  /* fitted */\n  background-color: var(--sklearn-color-fitted-level-2);\n}\n\n#sk-container-id-1 div.sk-label label.sk-toggleable__label,\n#sk-container-id-1 div.sk-label label {\n  /* The background is the default theme color */\n  color: var(--sklearn-color-text-on-default-background);\n}\n\n/* On hover, darken the color of the background */\n#sk-container-id-1 div.sk-label:hover label.sk-toggleable__label {\n  color: var(--sklearn-color-text);\n  background-color: var(--sklearn-color-unfitted-level-2);\n}\n\n/* Label box, darken color on hover, fitted */\n#sk-container-id-1 div.sk-label.fitted:hover label.sk-toggleable__label.fitted {\n  color: var(--sklearn-color-text);\n  background-color: var(--sklearn-color-fitted-level-2);\n}\n\n/* Estimator label */\n\n#sk-container-id-1 div.sk-label label {\n  font-family: monospace;\n  font-weight: bold;\n  display: inline-block;\n  line-height: 1.2em;\n}\n\n#sk-container-id-1 div.sk-label-container {\n  text-align: center;\n}\n\n/* Estimator-specific */\n#sk-container-id-1 div.sk-estimator {\n  font-family: monospace;\n  border: 1px dotted var(--sklearn-color-border-box);\n  border-radius: 0.25em;\n  box-sizing: border-box;\n  margin-bottom: 0.5em;\n  /* unfitted */\n  background-color: var(--sklearn-color-unfitted-level-0);\n}\n\n#sk-container-id-1 div.sk-estimator.fitted {\n  /* fitted */\n  background-color: var(--sklearn-color-fitted-level-0);\n}\n\n/* on hover */\n#sk-container-id-1 div.sk-estimator:hover {\n  /* unfitted */\n  background-color: var(--sklearn-color-unfitted-level-2);\n}\n\n#sk-container-id-1 div.sk-estimator.fitted:hover {\n  /* fitted */\n  background-color: var(--sklearn-color-fitted-level-2);\n}\n\n/* Specification for estimator info (e.g. \"i\" and \"?\") */\n\n/* Common style for \"i\" and \"?\" */\n\n.sk-estimator-doc-link,\na:link.sk-estimator-doc-link,\na:visited.sk-estimator-doc-link {\n  float: right;\n  font-size: smaller;\n  line-height: 1em;\n  font-family: monospace;\n  background-color: var(--sklearn-color-background);\n  border-radius: 1em;\n  height: 1em;\n  width: 1em;\n  text-decoration: none !important;\n  margin-left: 1ex;\n  /* unfitted */\n  border: var(--sklearn-color-unfitted-level-1) 1pt solid;\n  color: var(--sklearn-color-unfitted-level-1);\n}\n\n.sk-estimator-doc-link.fitted,\na:link.sk-estimator-doc-link.fitted,\na:visited.sk-estimator-doc-link.fitted {\n  /* fitted */\n  border: var(--sklearn-color-fitted-level-1) 1pt solid;\n  color: var(--sklearn-color-fitted-level-1);\n}\n\n/* On hover */\ndiv.sk-estimator:hover .sk-estimator-doc-link:hover,\n.sk-estimator-doc-link:hover,\ndiv.sk-label-container:hover .sk-estimator-doc-link:hover,\n.sk-estimator-doc-link:hover {\n  /* unfitted */\n  background-color: var(--sklearn-color-unfitted-level-3);\n  color: var(--sklearn-color-background);\n  text-decoration: none;\n}\n\ndiv.sk-estimator.fitted:hover .sk-estimator-doc-link.fitted:hover,\n.sk-estimator-doc-link.fitted:hover,\ndiv.sk-label-container:hover .sk-estimator-doc-link.fitted:hover,\n.sk-estimator-doc-link.fitted:hover {\n  /* fitted */\n  background-color: var(--sklearn-color-fitted-level-3);\n  color: var(--sklearn-color-background);\n  text-decoration: none;\n}\n\n/* Span, style for the box shown on hovering the info icon */\n.sk-estimator-doc-link span {\n  display: none;\n  z-index: 9999;\n  position: relative;\n  font-weight: normal;\n  right: .2ex;\n  padding: .5ex;\n  margin: .5ex;\n  width: min-content;\n  min-width: 20ex;\n  max-width: 50ex;\n  color: var(--sklearn-color-text);\n  box-shadow: 2pt 2pt 4pt #999;\n  /* unfitted */\n  background: var(--sklearn-color-unfitted-level-0);\n  border: .5pt solid var(--sklearn-color-unfitted-level-3);\n}\n\n.sk-estimator-doc-link.fitted span {\n  /* fitted */\n  background: var(--sklearn-color-fitted-level-0);\n  border: var(--sklearn-color-fitted-level-3);\n}\n\n.sk-estimator-doc-link:hover span {\n  display: block;\n}\n\n/* \"?\"-specific style due to the `<a>` HTML tag */\n\n#sk-container-id-1 a.estimator_doc_link {\n  float: right;\n  font-size: 1rem;\n  line-height: 1em;\n  font-family: monospace;\n  background-color: var(--sklearn-color-background);\n  border-radius: 1rem;\n  height: 1rem;\n  width: 1rem;\n  text-decoration: none;\n  /* unfitted */\n  color: var(--sklearn-color-unfitted-level-1);\n  border: var(--sklearn-color-unfitted-level-1) 1pt solid;\n}\n\n#sk-container-id-1 a.estimator_doc_link.fitted {\n  /* fitted */\n  border: var(--sklearn-color-fitted-level-1) 1pt solid;\n  color: var(--sklearn-color-fitted-level-1);\n}\n\n/* On hover */\n#sk-container-id-1 a.estimator_doc_link:hover {\n  /* unfitted */\n  background-color: var(--sklearn-color-unfitted-level-3);\n  color: var(--sklearn-color-background);\n  text-decoration: none;\n}\n\n#sk-container-id-1 a.estimator_doc_link.fitted:hover {\n  /* fitted */\n  background-color: var(--sklearn-color-fitted-level-3);\n}\n</style><div id=\"sk-container-id-1\" class=\"sk-top-container\"><div class=\"sk-text-repr-fallback\"><pre>SelectFromModel(estimator=Lasso(alpha=0.005, random_state=0))</pre><b>In a Jupyter environment, please rerun this cell to show the HTML representation or trust the notebook. <br />On GitHub, the HTML representation is unable to render, please try loading this page with nbviewer.org.</b></div><div class=\"sk-container\" hidden><div class=\"sk-item sk-dashed-wrapped\"><div class=\"sk-label-container\"><div class=\"sk-label fitted sk-toggleable\"><input class=\"sk-toggleable__control sk-hidden--visually\" id=\"sk-estimator-id-1\" type=\"checkbox\" ><label for=\"sk-estimator-id-1\" class=\"sk-toggleable__label fitted sk-toggleable__label-arrow fitted\">&nbsp;&nbsp;SelectFromModel<a class=\"sk-estimator-doc-link fitted\" rel=\"noreferrer\" target=\"_blank\" href=\"https://scikit-learn.org/1.4/modules/generated/sklearn.feature_selection.SelectFromModel.html\">?<span>Documentation for SelectFromModel</span></a><span class=\"sk-estimator-doc-link fitted\">i<span>Fitted</span></span></label><div class=\"sk-toggleable__content fitted\"><pre>SelectFromModel(estimator=Lasso(alpha=0.005, random_state=0))</pre></div> </div></div><div class=\"sk-parallel\"><div class=\"sk-parallel-item\"><div class=\"sk-item\"><div class=\"sk-label-container\"><div class=\"sk-label fitted sk-toggleable\"><input class=\"sk-toggleable__control sk-hidden--visually\" id=\"sk-estimator-id-2\" type=\"checkbox\" ><label for=\"sk-estimator-id-2\" class=\"sk-toggleable__label fitted sk-toggleable__label-arrow fitted\">estimator: Lasso</label><div class=\"sk-toggleable__content fitted\"><pre>Lasso(alpha=0.005, random_state=0)</pre></div> </div></div><div class=\"sk-serial\"><div class=\"sk-item\"><div class=\"sk-estimator fitted sk-toggleable\"><input class=\"sk-toggleable__control sk-hidden--visually\" id=\"sk-estimator-id-3\" type=\"checkbox\" ><label for=\"sk-estimator-id-3\" class=\"sk-toggleable__label fitted sk-toggleable__label-arrow fitted\">&nbsp;Lasso<a class=\"sk-estimator-doc-link fitted\" rel=\"noreferrer\" target=\"_blank\" href=\"https://scikit-learn.org/1.4/modules/generated/sklearn.linear_model.Lasso.html\">?<span>Documentation for Lasso</span></a></label><div class=\"sk-toggleable__content fitted\"><pre>Lasso(alpha=0.005, random_state=0)</pre></div> </div></div></div></div></div></div></div></div></div>"
     },
     "execution_count": 45,
     "metadata": {},
     "output_type": "execute_result"
    }
   ],
   "source": [
    "model = SelectFromModel(Lasso(alpha=0.005,random_state=0))\n",
    "model.fit(X_train,y_train)"
   ]
  },
  {
   "cell_type": "code",
   "execution_count": 46,
   "metadata": {
    "ExecuteTime": {
     "end_time": "2024-03-02T18:38:12.695252Z",
     "start_time": "2024-03-02T18:38:12.201450Z"
    }
   },
   "outputs": [
    {
     "data": {
      "text/plain": "(array([ True,  True, False,  True,  True,  True,  True,  True,  True]),\n {'estimator__alpha': 0.005,\n  'estimator__copy_X': True,\n  'estimator__fit_intercept': True,\n  'estimator__max_iter': 1000,\n  'estimator__positive': False,\n  'estimator__precompute': False,\n  'estimator__random_state': 0,\n  'estimator__selection': 'cyclic',\n  'estimator__tol': 0.0001,\n  'estimator__warm_start': False,\n  'estimator': Lasso(alpha=0.005, random_state=0),\n  'importance_getter': 'auto',\n  'max_features': None,\n  'norm_order': 1,\n  'prefit': False,\n  'threshold': None})"
     },
     "execution_count": 46,
     "metadata": {},
     "output_type": "execute_result"
    }
   ],
   "source": [
    "model.get_support(),model.get_params()"
   ]
  },
  {
   "cell_type": "code",
   "execution_count": 47,
   "metadata": {
    "ExecuteTime": {
     "end_time": "2024-03-02T18:38:12.695943Z",
     "start_time": "2024-03-02T18:38:12.205496Z"
    }
   },
   "outputs": [],
   "source": [
    "features_selected = X_train.columns[model.get_support()]"
   ]
  },
  {
   "cell_type": "code",
   "execution_count": 48,
   "metadata": {
    "ExecuteTime": {
     "end_time": "2024-03-02T18:38:12.696889Z",
     "start_time": "2024-03-02T18:38:12.209278Z"
    }
   },
   "outputs": [
    {
     "data": {
      "text/plain": "(Index(['Day', 'Month', 'Stops', 'Departure_Hour', 'Departure_Minute',\n        'Airline_Encoded', 'Source_Encoded', 'Destination_Encoded'],\n       dtype='object'),\n (7420, 9),\n 8)"
     },
     "execution_count": 48,
     "metadata": {},
     "output_type": "execute_result"
    }
   ],
   "source": [
    "features_selected,X_train.shape,len(features_selected)"
   ]
  },
  {
   "cell_type": "markdown",
   "metadata": {},
   "source": [
    "We see that year feature is not selected so we will eliminate Year feature from our dataset"
   ]
  },
  {
   "cell_type": "code",
   "execution_count": 49,
   "metadata": {
    "ExecuteTime": {
     "end_time": "2024-03-02T18:38:12.697273Z",
     "start_time": "2024-03-02T18:38:12.216593Z"
    }
   },
   "outputs": [],
   "source": [
    "X_train = X_train.drop(['Year'],axis=1)\n",
    "X_test = X_test.drop(['Year'],axis=1)"
   ]
  },
  {
   "cell_type": "code",
   "execution_count": 50,
   "metadata": {
    "ExecuteTime": {
     "end_time": "2024-03-02T18:38:12.698859Z",
     "start_time": "2024-03-02T18:38:12.227339Z"
    }
   },
   "outputs": [
    {
     "data": {
      "text/plain": "      Day  Month  Stops  Departure_Hour  Departure_Minute  Airline_Encoded  \\\n4003    1      5      1              16                30                4   \n217     1      6      0               1                30                3   \n1625    1      6      2              13                15                1   \n7636    9      5      0              13                55                1   \n4833    6      6      1               9                35                4   \n\n      Source_Encoded  Destination_Encoded  \n4003               3                    0  \n217                0                    2  \n1625               2                    1  \n7636               4                    4  \n4833               3                    0  ",
      "text/html": "<div>\n<style scoped>\n    .dataframe tbody tr th:only-of-type {\n        vertical-align: middle;\n    }\n\n    .dataframe tbody tr th {\n        vertical-align: top;\n    }\n\n    .dataframe thead th {\n        text-align: right;\n    }\n</style>\n<table border=\"1\" class=\"dataframe\">\n  <thead>\n    <tr style=\"text-align: right;\">\n      <th></th>\n      <th>Day</th>\n      <th>Month</th>\n      <th>Stops</th>\n      <th>Departure_Hour</th>\n      <th>Departure_Minute</th>\n      <th>Airline_Encoded</th>\n      <th>Source_Encoded</th>\n      <th>Destination_Encoded</th>\n    </tr>\n  </thead>\n  <tbody>\n    <tr>\n      <th>4003</th>\n      <td>1</td>\n      <td>5</td>\n      <td>1</td>\n      <td>16</td>\n      <td>30</td>\n      <td>4</td>\n      <td>3</td>\n      <td>0</td>\n    </tr>\n    <tr>\n      <th>217</th>\n      <td>1</td>\n      <td>6</td>\n      <td>0</td>\n      <td>1</td>\n      <td>30</td>\n      <td>3</td>\n      <td>0</td>\n      <td>2</td>\n    </tr>\n    <tr>\n      <th>1625</th>\n      <td>1</td>\n      <td>6</td>\n      <td>2</td>\n      <td>13</td>\n      <td>15</td>\n      <td>1</td>\n      <td>2</td>\n      <td>1</td>\n    </tr>\n    <tr>\n      <th>7636</th>\n      <td>9</td>\n      <td>5</td>\n      <td>0</td>\n      <td>13</td>\n      <td>55</td>\n      <td>1</td>\n      <td>4</td>\n      <td>4</td>\n    </tr>\n    <tr>\n      <th>4833</th>\n      <td>6</td>\n      <td>6</td>\n      <td>1</td>\n      <td>9</td>\n      <td>35</td>\n      <td>4</td>\n      <td>3</td>\n      <td>0</td>\n    </tr>\n  </tbody>\n</table>\n</div>"
     },
     "execution_count": 50,
     "metadata": {},
     "output_type": "execute_result"
    }
   ],
   "source": [
    "X_train.head()"
   ]
  },
  {
   "cell_type": "code",
   "execution_count": 51,
   "metadata": {
    "scrolled": true,
    "ExecuteTime": {
     "end_time": "2024-03-02T18:38:12.699918Z",
     "start_time": "2024-03-02T18:38:12.231288Z"
    }
   },
   "outputs": [
    {
     "data": {
      "text/plain": "      Day  Month  Stops  Departure_Hour  Departure_Minute  Airline_Encoded  \\\n5790   12      3      0              14                20                3   \n4340    1      6      0              11                40                2   \n3028   24      6      0              10                10                3   \n3037   18      5      0              19                35                3   \n8784    9      5      0              13                15                8   \n\n      Source_Encoded  Destination_Encoded  \n5790               3                    0  \n4340               0                    2  \n3028               0                    2  \n3037               1                    3  \n8784               4                    4  ",
      "text/html": "<div>\n<style scoped>\n    .dataframe tbody tr th:only-of-type {\n        vertical-align: middle;\n    }\n\n    .dataframe tbody tr th {\n        vertical-align: top;\n    }\n\n    .dataframe thead th {\n        text-align: right;\n    }\n</style>\n<table border=\"1\" class=\"dataframe\">\n  <thead>\n    <tr style=\"text-align: right;\">\n      <th></th>\n      <th>Day</th>\n      <th>Month</th>\n      <th>Stops</th>\n      <th>Departure_Hour</th>\n      <th>Departure_Minute</th>\n      <th>Airline_Encoded</th>\n      <th>Source_Encoded</th>\n      <th>Destination_Encoded</th>\n    </tr>\n  </thead>\n  <tbody>\n    <tr>\n      <th>5790</th>\n      <td>12</td>\n      <td>3</td>\n      <td>0</td>\n      <td>14</td>\n      <td>20</td>\n      <td>3</td>\n      <td>3</td>\n      <td>0</td>\n    </tr>\n    <tr>\n      <th>4340</th>\n      <td>1</td>\n      <td>6</td>\n      <td>0</td>\n      <td>11</td>\n      <td>40</td>\n      <td>2</td>\n      <td>0</td>\n      <td>2</td>\n    </tr>\n    <tr>\n      <th>3028</th>\n      <td>24</td>\n      <td>6</td>\n      <td>0</td>\n      <td>10</td>\n      <td>10</td>\n      <td>3</td>\n      <td>0</td>\n      <td>2</td>\n    </tr>\n    <tr>\n      <th>3037</th>\n      <td>18</td>\n      <td>5</td>\n      <td>0</td>\n      <td>19</td>\n      <td>35</td>\n      <td>3</td>\n      <td>1</td>\n      <td>3</td>\n    </tr>\n    <tr>\n      <th>8784</th>\n      <td>9</td>\n      <td>5</td>\n      <td>0</td>\n      <td>13</td>\n      <td>15</td>\n      <td>8</td>\n      <td>4</td>\n      <td>4</td>\n    </tr>\n  </tbody>\n</table>\n</div>"
     },
     "execution_count": 51,
     "metadata": {},
     "output_type": "execute_result"
    }
   ],
   "source": [
    "X_test.head()"
   ]
  },
  {
   "cell_type": "markdown",
   "metadata": {},
   "source": [
    "### Feature Normalization"
   ]
  },
  {
   "cell_type": "code",
   "execution_count": 67,
   "metadata": {
    "ExecuteTime": {
     "end_time": "2024-03-02T18:40:45.898889Z",
     "start_time": "2024-03-02T18:40:45.873346Z"
    }
   },
   "outputs": [],
   "source": [
    "from sklearn.preprocessing import StandardScaler"
   ]
  },
  {
   "cell_type": "code",
   "execution_count": 68,
   "metadata": {
    "ExecuteTime": {
     "end_time": "2024-03-02T18:40:47.864435Z",
     "start_time": "2024-03-02T18:40:47.843380Z"
    }
   },
   "outputs": [],
   "source": [
    "scaler = StandardScaler()"
   ]
  },
  {
   "cell_type": "code",
   "execution_count": 69,
   "metadata": {
    "ExecuteTime": {
     "end_time": "2024-03-02T18:40:51.103709Z",
     "start_time": "2024-03-02T18:40:51.081390Z"
    }
   },
   "outputs": [],
   "source": [
    "X_train = pd.DataFrame(scaler.fit_transform(X_train),columns=X_train.columns)\n",
    "X_test = pd.DataFrame(scaler.fit_transform(X_test),columns=X_test.columns)"
   ]
  },
  {
   "cell_type": "code",
   "execution_count": 70,
   "metadata": {
    "ExecuteTime": {
     "end_time": "2024-03-02T18:40:53.223151Z",
     "start_time": "2024-03-02T18:40:53.212888Z"
    }
   },
   "outputs": [
    {
     "data": {
      "text/plain": "        Day     Month     Stops  Departure_Hour  Departure_Minute  \\\n0 -1.735995  0.158378  0.388057        0.653532          0.492106   \n1 -1.735995  1.173388 -1.301440       -2.363712          0.492106   \n2 -1.735995  1.173388  1.547212        0.167702         -0.186091   \n3 -0.395055  0.158378 -1.301440        0.167702          1.291318   \n4 -0.808794  1.173388  0.388057       -0.536730          0.674877   \n\n   Airline_Encoded  Source_Encoded  Destination_Encoded  \n0         0.135167        0.901570            -1.412723  \n1        -0.308324       -1.593017             0.699144  \n2        -1.437500       -0.018161             0.028517  \n3        -1.437500        1.884759             1.415470  \n4         0.135167        0.901570            -1.412723  ",
      "text/html": "<div>\n<style scoped>\n    .dataframe tbody tr th:only-of-type {\n        vertical-align: middle;\n    }\n\n    .dataframe tbody tr th {\n        vertical-align: top;\n    }\n\n    .dataframe thead th {\n        text-align: right;\n    }\n</style>\n<table border=\"1\" class=\"dataframe\">\n  <thead>\n    <tr style=\"text-align: right;\">\n      <th></th>\n      <th>Day</th>\n      <th>Month</th>\n      <th>Stops</th>\n      <th>Departure_Hour</th>\n      <th>Departure_Minute</th>\n      <th>Airline_Encoded</th>\n      <th>Source_Encoded</th>\n      <th>Destination_Encoded</th>\n    </tr>\n  </thead>\n  <tbody>\n    <tr>\n      <th>0</th>\n      <td>-1.735995</td>\n      <td>0.158378</td>\n      <td>0.388057</td>\n      <td>0.653532</td>\n      <td>0.492106</td>\n      <td>0.135167</td>\n      <td>0.901570</td>\n      <td>-1.412723</td>\n    </tr>\n    <tr>\n      <th>1</th>\n      <td>-1.735995</td>\n      <td>1.173388</td>\n      <td>-1.301440</td>\n      <td>-2.363712</td>\n      <td>0.492106</td>\n      <td>-0.308324</td>\n      <td>-1.593017</td>\n      <td>0.699144</td>\n    </tr>\n    <tr>\n      <th>2</th>\n      <td>-1.735995</td>\n      <td>1.173388</td>\n      <td>1.547212</td>\n      <td>0.167702</td>\n      <td>-0.186091</td>\n      <td>-1.437500</td>\n      <td>-0.018161</td>\n      <td>0.028517</td>\n    </tr>\n    <tr>\n      <th>3</th>\n      <td>-0.395055</td>\n      <td>0.158378</td>\n      <td>-1.301440</td>\n      <td>0.167702</td>\n      <td>1.291318</td>\n      <td>-1.437500</td>\n      <td>1.884759</td>\n      <td>1.415470</td>\n    </tr>\n    <tr>\n      <th>4</th>\n      <td>-0.808794</td>\n      <td>1.173388</td>\n      <td>0.388057</td>\n      <td>-0.536730</td>\n      <td>0.674877</td>\n      <td>0.135167</td>\n      <td>0.901570</td>\n      <td>-1.412723</td>\n    </tr>\n  </tbody>\n</table>\n</div>"
     },
     "execution_count": 70,
     "metadata": {},
     "output_type": "execute_result"
    }
   ],
   "source": [
    "X_train.head()"
   ]
  },
  {
   "cell_type": "code",
   "execution_count": 71,
   "metadata": {
    "ExecuteTime": {
     "end_time": "2024-03-02T18:40:56.032694Z",
     "start_time": "2024-03-02T18:40:56.009921Z"
    }
   },
   "outputs": [
    {
     "data": {
      "text/plain": "        Day     Month     Stops  Departure_Hour  Departure_Minute  \\\n0 -0.043031 -1.404909 -1.328533        0.313325          0.036055   \n1 -1.725743  1.183077 -1.328533       -0.200897          0.830940   \n2  1.146660  1.183077 -1.328533       -0.382229         -0.530091   \n3  0.590637  0.157144 -1.328533        1.095200          0.656485   \n4 -0.404661  0.157144 -1.328533        0.146377         -0.222789   \n\n   Airline_Encoded  Source_Encoded  Destination_Encoded  \n0        -0.256825        0.907369            -1.377987  \n1        -0.767095       -1.588669             0.730126  \n2        -0.256825       -1.588669             0.730126  \n3        -0.256825       -0.867179             1.137350  \n4         1.578840        1.913098             1.424102  ",
      "text/html": "<div>\n<style scoped>\n    .dataframe tbody tr th:only-of-type {\n        vertical-align: middle;\n    }\n\n    .dataframe tbody tr th {\n        vertical-align: top;\n    }\n\n    .dataframe thead th {\n        text-align: right;\n    }\n</style>\n<table border=\"1\" class=\"dataframe\">\n  <thead>\n    <tr style=\"text-align: right;\">\n      <th></th>\n      <th>Day</th>\n      <th>Month</th>\n      <th>Stops</th>\n      <th>Departure_Hour</th>\n      <th>Departure_Minute</th>\n      <th>Airline_Encoded</th>\n      <th>Source_Encoded</th>\n      <th>Destination_Encoded</th>\n    </tr>\n  </thead>\n  <tbody>\n    <tr>\n      <th>0</th>\n      <td>-0.043031</td>\n      <td>-1.404909</td>\n      <td>-1.328533</td>\n      <td>0.313325</td>\n      <td>0.036055</td>\n      <td>-0.256825</td>\n      <td>0.907369</td>\n      <td>-1.377987</td>\n    </tr>\n    <tr>\n      <th>1</th>\n      <td>-1.725743</td>\n      <td>1.183077</td>\n      <td>-1.328533</td>\n      <td>-0.200897</td>\n      <td>0.830940</td>\n      <td>-0.767095</td>\n      <td>-1.588669</td>\n      <td>0.730126</td>\n    </tr>\n    <tr>\n      <th>2</th>\n      <td>1.146660</td>\n      <td>1.183077</td>\n      <td>-1.328533</td>\n      <td>-0.382229</td>\n      <td>-0.530091</td>\n      <td>-0.256825</td>\n      <td>-1.588669</td>\n      <td>0.730126</td>\n    </tr>\n    <tr>\n      <th>3</th>\n      <td>0.590637</td>\n      <td>0.157144</td>\n      <td>-1.328533</td>\n      <td>1.095200</td>\n      <td>0.656485</td>\n      <td>-0.256825</td>\n      <td>-0.867179</td>\n      <td>1.137350</td>\n    </tr>\n    <tr>\n      <th>4</th>\n      <td>-0.404661</td>\n      <td>0.157144</td>\n      <td>-1.328533</td>\n      <td>0.146377</td>\n      <td>-0.222789</td>\n      <td>1.578840</td>\n      <td>1.913098</td>\n      <td>1.424102</td>\n    </tr>\n  </tbody>\n</table>\n</div>"
     },
     "execution_count": 71,
     "metadata": {},
     "output_type": "execute_result"
    }
   ],
   "source": [
    "X_test.head()"
   ]
  },
  {
   "cell_type": "code",
   "execution_count": 72,
   "metadata": {
    "ExecuteTime": {
     "end_time": "2024-03-02T18:40:59.001909Z",
     "start_time": "2024-03-02T18:40:58.981540Z"
    }
   },
   "outputs": [],
   "source": [
    "import scipy.stats as stat"
   ]
  },
  {
   "cell_type": "code",
   "execution_count": 73,
   "metadata": {
    "ExecuteTime": {
     "end_time": "2024-03-02T18:41:01.172801Z",
     "start_time": "2024-03-02T18:41:01.091308Z"
    }
   },
   "outputs": [],
   "source": [
    "for x in list(X_train.columns):\n",
    "    X_train[x] = stat.yeojohnson(X_train[x])[0]\n",
    "\n",
    "for y in list(X_test.columns):\n",
    "    X_test[y] = stat.yeojohnson(X_test[y])[0]\n"
   ]
  },
  {
   "cell_type": "code",
   "execution_count": 74,
   "metadata": {
    "ExecuteTime": {
     "end_time": "2024-03-02T18:41:03.976985Z",
     "start_time": "2024-03-02T18:41:03.968582Z"
    }
   },
   "outputs": [
    {
     "data": {
      "text/plain": "        Day     Month     Stops  Departure_Hour  Departure_Minute  \\\n0 -1.543421  0.161579  0.401678        0.664882          0.545310   \n1 -1.543421  1.319871 -1.185878       -2.258432          0.545310   \n2 -1.543421  1.319871  1.724401        0.168546         -0.178556   \n3 -0.381259  0.161579 -1.185878        0.168546          1.624522   \n4 -0.757441  1.319871  0.401678       -0.529014          0.772550   \n\n   Airline_Encoded  Source_Encoded  Destination_Encoded  \n0         0.135403        0.959283            -1.347682  \n1        -0.307159       -1.449685             0.718434  \n2        -1.417860       -0.018132             0.028555  \n3        -1.417860        2.101629             1.484702  \n4         0.135403        0.959283            -1.347682  ",
      "text/html": "<div>\n<style scoped>\n    .dataframe tbody tr th:only-of-type {\n        vertical-align: middle;\n    }\n\n    .dataframe tbody tr th {\n        vertical-align: top;\n    }\n\n    .dataframe thead th {\n        text-align: right;\n    }\n</style>\n<table border=\"1\" class=\"dataframe\">\n  <thead>\n    <tr style=\"text-align: right;\">\n      <th></th>\n      <th>Day</th>\n      <th>Month</th>\n      <th>Stops</th>\n      <th>Departure_Hour</th>\n      <th>Departure_Minute</th>\n      <th>Airline_Encoded</th>\n      <th>Source_Encoded</th>\n      <th>Destination_Encoded</th>\n    </tr>\n  </thead>\n  <tbody>\n    <tr>\n      <th>0</th>\n      <td>-1.543421</td>\n      <td>0.161579</td>\n      <td>0.401678</td>\n      <td>0.664882</td>\n      <td>0.545310</td>\n      <td>0.135403</td>\n      <td>0.959283</td>\n      <td>-1.347682</td>\n    </tr>\n    <tr>\n      <th>1</th>\n      <td>-1.543421</td>\n      <td>1.319871</td>\n      <td>-1.185878</td>\n      <td>-2.258432</td>\n      <td>0.545310</td>\n      <td>-0.307159</td>\n      <td>-1.449685</td>\n      <td>0.718434</td>\n    </tr>\n    <tr>\n      <th>2</th>\n      <td>-1.543421</td>\n      <td>1.319871</td>\n      <td>1.724401</td>\n      <td>0.168546</td>\n      <td>-0.178556</td>\n      <td>-1.417860</td>\n      <td>-0.018132</td>\n      <td>0.028555</td>\n    </tr>\n    <tr>\n      <th>3</th>\n      <td>-0.381259</td>\n      <td>0.161579</td>\n      <td>-1.185878</td>\n      <td>0.168546</td>\n      <td>1.624522</td>\n      <td>-1.417860</td>\n      <td>2.101629</td>\n      <td>1.484702</td>\n    </tr>\n    <tr>\n      <th>4</th>\n      <td>-0.757441</td>\n      <td>1.319871</td>\n      <td>0.401678</td>\n      <td>-0.529014</td>\n      <td>0.772550</td>\n      <td>0.135403</td>\n      <td>0.959283</td>\n      <td>-1.347682</td>\n    </tr>\n  </tbody>\n</table>\n</div>"
     },
     "execution_count": 74,
     "metadata": {},
     "output_type": "execute_result"
    }
   ],
   "source": [
    "X_train.head()"
   ]
  },
  {
   "cell_type": "code",
   "execution_count": 75,
   "metadata": {
    "ExecuteTime": {
     "end_time": "2024-03-02T18:41:06.810681Z",
     "start_time": "2024-03-02T18:41:06.782604Z"
    }
   },
   "outputs": [
    {
     "data": {
      "text/plain": "        Day     Month     Stops  Departure_Hour  Departure_Minute  \\\n0 -0.042830 -1.235624 -1.213619        0.316820          0.036365   \n1 -1.519721  1.328826 -1.213619       -0.199431          0.977850   \n2  1.262528  1.328826 -1.213619       -0.377204         -0.476130   \n3  0.624473  0.160237 -1.213619        1.131261          0.750175   \n4 -0.389005  0.160237 -1.213619        0.147175         -0.212050   \n\n   Airline_Encoded  Source_Encoded  Destination_Encoded  \n0        -0.255690        0.969610            -1.305676  \n1        -0.758231       -1.437536             0.754574  \n2        -0.255690       -1.437536             0.754574  \n3        -0.255690       -0.814347             1.192256  \n4         1.611546        2.150789             1.506120  ",
      "text/html": "<div>\n<style scoped>\n    .dataframe tbody tr th:only-of-type {\n        vertical-align: middle;\n    }\n\n    .dataframe tbody tr th {\n        vertical-align: top;\n    }\n\n    .dataframe thead th {\n        text-align: right;\n    }\n</style>\n<table border=\"1\" class=\"dataframe\">\n  <thead>\n    <tr style=\"text-align: right;\">\n      <th></th>\n      <th>Day</th>\n      <th>Month</th>\n      <th>Stops</th>\n      <th>Departure_Hour</th>\n      <th>Departure_Minute</th>\n      <th>Airline_Encoded</th>\n      <th>Source_Encoded</th>\n      <th>Destination_Encoded</th>\n    </tr>\n  </thead>\n  <tbody>\n    <tr>\n      <th>0</th>\n      <td>-0.042830</td>\n      <td>-1.235624</td>\n      <td>-1.213619</td>\n      <td>0.316820</td>\n      <td>0.036365</td>\n      <td>-0.255690</td>\n      <td>0.969610</td>\n      <td>-1.305676</td>\n    </tr>\n    <tr>\n      <th>1</th>\n      <td>-1.519721</td>\n      <td>1.328826</td>\n      <td>-1.213619</td>\n      <td>-0.199431</td>\n      <td>0.977850</td>\n      <td>-0.758231</td>\n      <td>-1.437536</td>\n      <td>0.754574</td>\n    </tr>\n    <tr>\n      <th>2</th>\n      <td>1.262528</td>\n      <td>1.328826</td>\n      <td>-1.213619</td>\n      <td>-0.377204</td>\n      <td>-0.476130</td>\n      <td>-0.255690</td>\n      <td>-1.437536</td>\n      <td>0.754574</td>\n    </tr>\n    <tr>\n      <th>3</th>\n      <td>0.624473</td>\n      <td>0.160237</td>\n      <td>-1.213619</td>\n      <td>1.131261</td>\n      <td>0.750175</td>\n      <td>-0.255690</td>\n      <td>-0.814347</td>\n      <td>1.192256</td>\n    </tr>\n    <tr>\n      <th>4</th>\n      <td>-0.389005</td>\n      <td>0.160237</td>\n      <td>-1.213619</td>\n      <td>0.147175</td>\n      <td>-0.212050</td>\n      <td>1.611546</td>\n      <td>2.150789</td>\n      <td>1.506120</td>\n    </tr>\n  </tbody>\n</table>\n</div>"
     },
     "execution_count": 75,
     "metadata": {},
     "output_type": "execute_result"
    }
   ],
   "source": [
    "X_test.head()"
   ]
  },
  {
   "cell_type": "code",
   "execution_count": 76,
   "metadata": {
    "ExecuteTime": {
     "end_time": "2024-03-02T18:41:09.378700Z",
     "start_time": "2024-03-02T18:41:09.360355Z"
    }
   },
   "outputs": [
    {
     "ename": "NameError",
     "evalue": "name 'reg' is not defined",
     "output_type": "error",
     "traceback": [
      "\u001B[0;31m---------------------------------------------------------------------------\u001B[0m",
      "\u001B[0;31mNameError\u001B[0m                                 Traceback (most recent call last)",
      "Cell \u001B[0;32mIn[76], line 1\u001B[0m\n\u001B[0;32m----> 1\u001B[0m pred \u001B[38;5;241m=\u001B[39m \u001B[43mreg\u001B[49m\u001B[38;5;241m.\u001B[39mpredict([np\u001B[38;5;241m.\u001B[39marray([\u001B[38;5;241m2\u001B[39m,\u001B[38;5;241m3\u001B[39m,\u001B[38;5;241m1\u001B[39m,\u001B[38;5;241m16\u001B[39m,\u001B[38;5;241m0\u001B[39m,\u001B[38;5;241m3\u001B[39m,\u001B[38;5;241m3\u001B[39m,\u001B[38;5;241m5\u001B[39m])])\n",
      "\u001B[0;31mNameError\u001B[0m: name 'reg' is not defined"
     ]
    }
   ],
   "source": [
    "#pred = reg.predict([np.array([2,3,1,16,0,3,3,5])])"
   ]
  },
  {
   "cell_type": "code",
   "execution_count": null,
   "metadata": {
    "ExecuteTime": {
     "start_time": "2024-03-02T18:38:12.477192Z"
    }
   },
   "outputs": [],
   "source": [
    "#pred[0]"
   ]
  },
  {
   "cell_type": "code",
   "execution_count": null,
   "metadata": {
    "ExecuteTime": {
     "start_time": "2024-03-02T18:38:12.478677Z"
    }
   },
   "outputs": [],
   "source": [
    "#pred2 = lm.predict([np.array([2,3,3,7,5,3,3,5])])"
   ]
  },
  {
   "cell_type": "code",
   "execution_count": null,
   "metadata": {
    "ExecuteTime": {
     "start_time": "2024-03-02T18:38:12.480125Z"
    }
   },
   "outputs": [],
   "source": [
    "#pred2"
   ]
  },
  {
   "cell_type": "code",
   "execution_count": null,
   "metadata": {
    "ExecuteTime": {
     "start_time": "2024-03-02T18:38:12.481606Z"
    }
   },
   "outputs": [],
   "source": []
  },
  {
   "cell_type": "markdown",
   "metadata": {},
   "source": [
    "### Linear Regression Model"
   ]
  },
  {
   "cell_type": "code",
   "execution_count": 77,
   "metadata": {
    "ExecuteTime": {
     "end_time": "2024-03-02T18:41:40.480191Z",
     "start_time": "2024-03-02T18:41:40.450043Z"
    }
   },
   "outputs": [],
   "source": [
    "from sklearn.linear_model import LinearRegression\n",
    "from sklearn.metrics import r2_score,mean_absolute_error,mean_squared_error"
   ]
  },
  {
   "cell_type": "code",
   "execution_count": 78,
   "metadata": {
    "ExecuteTime": {
     "end_time": "2024-03-02T18:41:42.256100Z",
     "start_time": "2024-03-02T18:41:42.241709Z"
    }
   },
   "outputs": [],
   "source": [
    "lm = LinearRegression()"
   ]
  },
  {
   "cell_type": "code",
   "execution_count": 79,
   "metadata": {
    "ExecuteTime": {
     "end_time": "2024-03-02T18:41:44.668123Z",
     "start_time": "2024-03-02T18:41:44.652274Z"
    }
   },
   "outputs": [
    {
     "data": {
      "text/plain": "LinearRegression()",
      "text/html": "<style>#sk-container-id-2 {\n  /* Definition of color scheme common for light and dark mode */\n  --sklearn-color-text: black;\n  --sklearn-color-line: gray;\n  /* Definition of color scheme for unfitted estimators */\n  --sklearn-color-unfitted-level-0: #fff5e6;\n  --sklearn-color-unfitted-level-1: #f6e4d2;\n  --sklearn-color-unfitted-level-2: #ffe0b3;\n  --sklearn-color-unfitted-level-3: chocolate;\n  /* Definition of color scheme for fitted estimators */\n  --sklearn-color-fitted-level-0: #f0f8ff;\n  --sklearn-color-fitted-level-1: #d4ebff;\n  --sklearn-color-fitted-level-2: #b3dbfd;\n  --sklearn-color-fitted-level-3: cornflowerblue;\n\n  /* Specific color for light theme */\n  --sklearn-color-text-on-default-background: var(--sg-text-color, var(--theme-code-foreground, var(--jp-content-font-color1, black)));\n  --sklearn-color-background: var(--sg-background-color, var(--theme-background, var(--jp-layout-color0, white)));\n  --sklearn-color-border-box: var(--sg-text-color, var(--theme-code-foreground, var(--jp-content-font-color1, black)));\n  --sklearn-color-icon: #696969;\n\n  @media (prefers-color-scheme: dark) {\n    /* Redefinition of color scheme for dark theme */\n    --sklearn-color-text-on-default-background: var(--sg-text-color, var(--theme-code-foreground, var(--jp-content-font-color1, white)));\n    --sklearn-color-background: var(--sg-background-color, var(--theme-background, var(--jp-layout-color0, #111)));\n    --sklearn-color-border-box: var(--sg-text-color, var(--theme-code-foreground, var(--jp-content-font-color1, white)));\n    --sklearn-color-icon: #878787;\n  }\n}\n\n#sk-container-id-2 {\n  color: var(--sklearn-color-text);\n}\n\n#sk-container-id-2 pre {\n  padding: 0;\n}\n\n#sk-container-id-2 input.sk-hidden--visually {\n  border: 0;\n  clip: rect(1px 1px 1px 1px);\n  clip: rect(1px, 1px, 1px, 1px);\n  height: 1px;\n  margin: -1px;\n  overflow: hidden;\n  padding: 0;\n  position: absolute;\n  width: 1px;\n}\n\n#sk-container-id-2 div.sk-dashed-wrapped {\n  border: 1px dashed var(--sklearn-color-line);\n  margin: 0 0.4em 0.5em 0.4em;\n  box-sizing: border-box;\n  padding-bottom: 0.4em;\n  background-color: var(--sklearn-color-background);\n}\n\n#sk-container-id-2 div.sk-container {\n  /* jupyter's `normalize.less` sets `[hidden] { display: none; }`\n     but bootstrap.min.css set `[hidden] { display: none !important; }`\n     so we also need the `!important` here to be able to override the\n     default hidden behavior on the sphinx rendered scikit-learn.org.\n     See: https://github.com/scikit-learn/scikit-learn/issues/21755 */\n  display: inline-block !important;\n  position: relative;\n}\n\n#sk-container-id-2 div.sk-text-repr-fallback {\n  display: none;\n}\n\ndiv.sk-parallel-item,\ndiv.sk-serial,\ndiv.sk-item {\n  /* draw centered vertical line to link estimators */\n  background-image: linear-gradient(var(--sklearn-color-text-on-default-background), var(--sklearn-color-text-on-default-background));\n  background-size: 2px 100%;\n  background-repeat: no-repeat;\n  background-position: center center;\n}\n\n/* Parallel-specific style estimator block */\n\n#sk-container-id-2 div.sk-parallel-item::after {\n  content: \"\";\n  width: 100%;\n  border-bottom: 2px solid var(--sklearn-color-text-on-default-background);\n  flex-grow: 1;\n}\n\n#sk-container-id-2 div.sk-parallel {\n  display: flex;\n  align-items: stretch;\n  justify-content: center;\n  background-color: var(--sklearn-color-background);\n  position: relative;\n}\n\n#sk-container-id-2 div.sk-parallel-item {\n  display: flex;\n  flex-direction: column;\n}\n\n#sk-container-id-2 div.sk-parallel-item:first-child::after {\n  align-self: flex-end;\n  width: 50%;\n}\n\n#sk-container-id-2 div.sk-parallel-item:last-child::after {\n  align-self: flex-start;\n  width: 50%;\n}\n\n#sk-container-id-2 div.sk-parallel-item:only-child::after {\n  width: 0;\n}\n\n/* Serial-specific style estimator block */\n\n#sk-container-id-2 div.sk-serial {\n  display: flex;\n  flex-direction: column;\n  align-items: center;\n  background-color: var(--sklearn-color-background);\n  padding-right: 1em;\n  padding-left: 1em;\n}\n\n\n/* Toggleable style: style used for estimator/Pipeline/ColumnTransformer box that is\nclickable and can be expanded/collapsed.\n- Pipeline and ColumnTransformer use this feature and define the default style\n- Estimators will overwrite some part of the style using the `sk-estimator` class\n*/\n\n/* Pipeline and ColumnTransformer style (default) */\n\n#sk-container-id-2 div.sk-toggleable {\n  /* Default theme specific background. It is overwritten whether we have a\n  specific estimator or a Pipeline/ColumnTransformer */\n  background-color: var(--sklearn-color-background);\n}\n\n/* Toggleable label */\n#sk-container-id-2 label.sk-toggleable__label {\n  cursor: pointer;\n  display: block;\n  width: 100%;\n  margin-bottom: 0;\n  padding: 0.5em;\n  box-sizing: border-box;\n  text-align: center;\n}\n\n#sk-container-id-2 label.sk-toggleable__label-arrow:before {\n  /* Arrow on the left of the label */\n  content: \"▸\";\n  float: left;\n  margin-right: 0.25em;\n  color: var(--sklearn-color-icon);\n}\n\n#sk-container-id-2 label.sk-toggleable__label-arrow:hover:before {\n  color: var(--sklearn-color-text);\n}\n\n/* Toggleable content - dropdown */\n\n#sk-container-id-2 div.sk-toggleable__content {\n  max-height: 0;\n  max-width: 0;\n  overflow: hidden;\n  text-align: left;\n  /* unfitted */\n  background-color: var(--sklearn-color-unfitted-level-0);\n}\n\n#sk-container-id-2 div.sk-toggleable__content.fitted {\n  /* fitted */\n  background-color: var(--sklearn-color-fitted-level-0);\n}\n\n#sk-container-id-2 div.sk-toggleable__content pre {\n  margin: 0.2em;\n  border-radius: 0.25em;\n  color: var(--sklearn-color-text);\n  /* unfitted */\n  background-color: var(--sklearn-color-unfitted-level-0);\n}\n\n#sk-container-id-2 div.sk-toggleable__content.fitted pre {\n  /* unfitted */\n  background-color: var(--sklearn-color-fitted-level-0);\n}\n\n#sk-container-id-2 input.sk-toggleable__control:checked~div.sk-toggleable__content {\n  /* Expand drop-down */\n  max-height: 200px;\n  max-width: 100%;\n  overflow: auto;\n}\n\n#sk-container-id-2 input.sk-toggleable__control:checked~label.sk-toggleable__label-arrow:before {\n  content: \"▾\";\n}\n\n/* Pipeline/ColumnTransformer-specific style */\n\n#sk-container-id-2 div.sk-label input.sk-toggleable__control:checked~label.sk-toggleable__label {\n  color: var(--sklearn-color-text);\n  background-color: var(--sklearn-color-unfitted-level-2);\n}\n\n#sk-container-id-2 div.sk-label.fitted input.sk-toggleable__control:checked~label.sk-toggleable__label {\n  background-color: var(--sklearn-color-fitted-level-2);\n}\n\n/* Estimator-specific style */\n\n/* Colorize estimator box */\n#sk-container-id-2 div.sk-estimator input.sk-toggleable__control:checked~label.sk-toggleable__label {\n  /* unfitted */\n  background-color: var(--sklearn-color-unfitted-level-2);\n}\n\n#sk-container-id-2 div.sk-estimator.fitted input.sk-toggleable__control:checked~label.sk-toggleable__label {\n  /* fitted */\n  background-color: var(--sklearn-color-fitted-level-2);\n}\n\n#sk-container-id-2 div.sk-label label.sk-toggleable__label,\n#sk-container-id-2 div.sk-label label {\n  /* The background is the default theme color */\n  color: var(--sklearn-color-text-on-default-background);\n}\n\n/* On hover, darken the color of the background */\n#sk-container-id-2 div.sk-label:hover label.sk-toggleable__label {\n  color: var(--sklearn-color-text);\n  background-color: var(--sklearn-color-unfitted-level-2);\n}\n\n/* Label box, darken color on hover, fitted */\n#sk-container-id-2 div.sk-label.fitted:hover label.sk-toggleable__label.fitted {\n  color: var(--sklearn-color-text);\n  background-color: var(--sklearn-color-fitted-level-2);\n}\n\n/* Estimator label */\n\n#sk-container-id-2 div.sk-label label {\n  font-family: monospace;\n  font-weight: bold;\n  display: inline-block;\n  line-height: 1.2em;\n}\n\n#sk-container-id-2 div.sk-label-container {\n  text-align: center;\n}\n\n/* Estimator-specific */\n#sk-container-id-2 div.sk-estimator {\n  font-family: monospace;\n  border: 1px dotted var(--sklearn-color-border-box);\n  border-radius: 0.25em;\n  box-sizing: border-box;\n  margin-bottom: 0.5em;\n  /* unfitted */\n  background-color: var(--sklearn-color-unfitted-level-0);\n}\n\n#sk-container-id-2 div.sk-estimator.fitted {\n  /* fitted */\n  background-color: var(--sklearn-color-fitted-level-0);\n}\n\n/* on hover */\n#sk-container-id-2 div.sk-estimator:hover {\n  /* unfitted */\n  background-color: var(--sklearn-color-unfitted-level-2);\n}\n\n#sk-container-id-2 div.sk-estimator.fitted:hover {\n  /* fitted */\n  background-color: var(--sklearn-color-fitted-level-2);\n}\n\n/* Specification for estimator info (e.g. \"i\" and \"?\") */\n\n/* Common style for \"i\" and \"?\" */\n\n.sk-estimator-doc-link,\na:link.sk-estimator-doc-link,\na:visited.sk-estimator-doc-link {\n  float: right;\n  font-size: smaller;\n  line-height: 1em;\n  font-family: monospace;\n  background-color: var(--sklearn-color-background);\n  border-radius: 1em;\n  height: 1em;\n  width: 1em;\n  text-decoration: none !important;\n  margin-left: 1ex;\n  /* unfitted */\n  border: var(--sklearn-color-unfitted-level-1) 1pt solid;\n  color: var(--sklearn-color-unfitted-level-1);\n}\n\n.sk-estimator-doc-link.fitted,\na:link.sk-estimator-doc-link.fitted,\na:visited.sk-estimator-doc-link.fitted {\n  /* fitted */\n  border: var(--sklearn-color-fitted-level-1) 1pt solid;\n  color: var(--sklearn-color-fitted-level-1);\n}\n\n/* On hover */\ndiv.sk-estimator:hover .sk-estimator-doc-link:hover,\n.sk-estimator-doc-link:hover,\ndiv.sk-label-container:hover .sk-estimator-doc-link:hover,\n.sk-estimator-doc-link:hover {\n  /* unfitted */\n  background-color: var(--sklearn-color-unfitted-level-3);\n  color: var(--sklearn-color-background);\n  text-decoration: none;\n}\n\ndiv.sk-estimator.fitted:hover .sk-estimator-doc-link.fitted:hover,\n.sk-estimator-doc-link.fitted:hover,\ndiv.sk-label-container:hover .sk-estimator-doc-link.fitted:hover,\n.sk-estimator-doc-link.fitted:hover {\n  /* fitted */\n  background-color: var(--sklearn-color-fitted-level-3);\n  color: var(--sklearn-color-background);\n  text-decoration: none;\n}\n\n/* Span, style for the box shown on hovering the info icon */\n.sk-estimator-doc-link span {\n  display: none;\n  z-index: 9999;\n  position: relative;\n  font-weight: normal;\n  right: .2ex;\n  padding: .5ex;\n  margin: .5ex;\n  width: min-content;\n  min-width: 20ex;\n  max-width: 50ex;\n  color: var(--sklearn-color-text);\n  box-shadow: 2pt 2pt 4pt #999;\n  /* unfitted */\n  background: var(--sklearn-color-unfitted-level-0);\n  border: .5pt solid var(--sklearn-color-unfitted-level-3);\n}\n\n.sk-estimator-doc-link.fitted span {\n  /* fitted */\n  background: var(--sklearn-color-fitted-level-0);\n  border: var(--sklearn-color-fitted-level-3);\n}\n\n.sk-estimator-doc-link:hover span {\n  display: block;\n}\n\n/* \"?\"-specific style due to the `<a>` HTML tag */\n\n#sk-container-id-2 a.estimator_doc_link {\n  float: right;\n  font-size: 1rem;\n  line-height: 1em;\n  font-family: monospace;\n  background-color: var(--sklearn-color-background);\n  border-radius: 1rem;\n  height: 1rem;\n  width: 1rem;\n  text-decoration: none;\n  /* unfitted */\n  color: var(--sklearn-color-unfitted-level-1);\n  border: var(--sklearn-color-unfitted-level-1) 1pt solid;\n}\n\n#sk-container-id-2 a.estimator_doc_link.fitted {\n  /* fitted */\n  border: var(--sklearn-color-fitted-level-1) 1pt solid;\n  color: var(--sklearn-color-fitted-level-1);\n}\n\n/* On hover */\n#sk-container-id-2 a.estimator_doc_link:hover {\n  /* unfitted */\n  background-color: var(--sklearn-color-unfitted-level-3);\n  color: var(--sklearn-color-background);\n  text-decoration: none;\n}\n\n#sk-container-id-2 a.estimator_doc_link.fitted:hover {\n  /* fitted */\n  background-color: var(--sklearn-color-fitted-level-3);\n}\n</style><div id=\"sk-container-id-2\" class=\"sk-top-container\"><div class=\"sk-text-repr-fallback\"><pre>LinearRegression()</pre><b>In a Jupyter environment, please rerun this cell to show the HTML representation or trust the notebook. <br />On GitHub, the HTML representation is unable to render, please try loading this page with nbviewer.org.</b></div><div class=\"sk-container\" hidden><div class=\"sk-item\"><div class=\"sk-estimator fitted sk-toggleable\"><input class=\"sk-toggleable__control sk-hidden--visually\" id=\"sk-estimator-id-4\" type=\"checkbox\" checked><label for=\"sk-estimator-id-4\" class=\"sk-toggleable__label fitted sk-toggleable__label-arrow fitted\">&nbsp;&nbsp;LinearRegression<a class=\"sk-estimator-doc-link fitted\" rel=\"noreferrer\" target=\"_blank\" href=\"https://scikit-learn.org/1.4/modules/generated/sklearn.linear_model.LinearRegression.html\">?<span>Documentation for LinearRegression</span></a><span class=\"sk-estimator-doc-link fitted\">i<span>Fitted</span></span></label><div class=\"sk-toggleable__content fitted\"><pre>LinearRegression()</pre></div> </div></div></div></div>"
     },
     "execution_count": 79,
     "metadata": {},
     "output_type": "execute_result"
    }
   ],
   "source": [
    "lm.fit(X_train,y_train)"
   ]
  },
  {
   "cell_type": "code",
   "execution_count": 80,
   "metadata": {
    "ExecuteTime": {
     "end_time": "2024-03-02T18:41:48.355780Z",
     "start_time": "2024-03-02T18:41:48.284126Z"
    }
   },
   "outputs": [],
   "source": [
    "predictions = lm.predict(X_test)"
   ]
  },
  {
   "cell_type": "code",
   "execution_count": 81,
   "metadata": {
    "ExecuteTime": {
     "end_time": "2024-03-02T18:41:50.475943Z",
     "start_time": "2024-03-02T18:41:50.160451Z"
    }
   },
   "outputs": [
    {
     "data": {
      "text/plain": "<Axes: xlabel='Price', ylabel='Density'>"
     },
     "execution_count": 81,
     "metadata": {},
     "output_type": "execute_result"
    },
    {
     "data": {
      "text/plain": "<Figure size 640x480 with 1 Axes>",
      "image/png": "[encoded data removed]"
     },
     "metadata": {},
     "output_type": "display_data"
    }
   ],
   "source": [
    "sns.kdeplot(x=predictions-y_test)"
   ]
  },
  {
   "cell_type": "code",
   "execution_count": 82,
   "metadata": {
    "ExecuteTime": {
     "end_time": "2024-03-02T18:41:53.607345Z",
     "start_time": "2024-03-02T18:41:53.583522Z"
    }
   },
   "outputs": [
    {
     "data": {
      "text/plain": "0.4367439610412227"
     },
     "execution_count": 82,
     "metadata": {},
     "output_type": "execute_result"
    }
   ],
   "source": [
    "r2_score(y_true=y_test,y_pred=predictions)"
   ]
  },
  {
   "cell_type": "markdown",
   "metadata": {},
   "source": [
    "As we can see that r2 score is fair if not the best and other algos can also be applied which wil eventually make r2_score significantly better than regression but since we were doing regression project we will limit to this algo this time and will explore other algos later.  \n",
    "  \n",
    "YeoJohnson transformation of all features gave slightly better result than StandardScaler."
   ]
  },
  {
   "cell_type": "code",
   "execution_count": 83,
   "metadata": {
    "ExecuteTime": {
     "end_time": "2024-03-02T18:42:35.969971Z",
     "start_time": "2024-03-02T18:42:35.639131Z"
    }
   },
   "outputs": [
    {
     "data": {
      "text/plain": "2457.1214840988296"
     },
     "execution_count": 83,
     "metadata": {},
     "output_type": "execute_result"
    }
   ],
   "source": [
    "mean_absolute_error(y_true=y_test,y_pred=predictions)"
   ]
  },
  {
   "cell_type": "code",
   "execution_count": 84,
   "metadata": {
    "ExecuteTime": {
     "end_time": "2024-03-02T18:42:35.972624Z",
     "start_time": "2024-03-02T18:42:35.640143Z"
    }
   },
   "outputs": [
    {
     "data": {
      "text/plain": "11603316.726744525"
     },
     "execution_count": 84,
     "metadata": {},
     "output_type": "execute_result"
    }
   ],
   "source": [
    "mean_squared_error(y_true=y_test,y_pred=predictions)"
   ]
  },
  {
   "cell_type": "code",
   "execution_count": 85,
   "metadata": {
    "ExecuteTime": {
     "end_time": "2024-03-02T18:42:35.972847Z",
     "start_time": "2024-03-02T18:42:35.640535Z"
    }
   },
   "outputs": [
    {
     "data": {
      "text/plain": "array([-722.83106941, -618.40210573, 3070.56798349,  249.6990743 ,\n       -156.31028929,  518.37086945, -477.67103181,   44.38319495])"
     },
     "execution_count": 85,
     "metadata": {},
     "output_type": "execute_result"
    }
   ],
   "source": [
    "lm.coef_"
   ]
  },
  {
   "cell_type": "code",
   "execution_count": 86,
   "metadata": {
    "ExecuteTime": {
     "end_time": "2024-03-02T18:42:36.032935Z",
     "start_time": "2024-03-02T18:42:35.641467Z"
    }
   },
   "outputs": [
    {
     "data": {
      "text/plain": "<matplotlib.collections.PathCollection at 0x17f8286d0>"
     },
     "execution_count": 86,
     "metadata": {},
     "output_type": "execute_result"
    },
    {
     "data": {
      "text/plain": "<Figure size 640x480 with 1 Axes>",
      "image/png": "[encoded data removed]"
     },
     "metadata": {},
     "output_type": "display_data"
    }
   ],
   "source": [
    "plt.scatter(y_test,predictions)"
   ]
  },
  {
   "cell_type": "code",
   "execution_count": 87,
   "metadata": {
    "ExecuteTime": {
     "end_time": "2024-03-02T18:42:36.033469Z",
     "start_time": "2024-03-02T18:42:35.851733Z"
    }
   },
   "outputs": [
    {
     "data": {
      "text/plain": "5790     4148\n4340     3898\n3028     3943\n3037     3597\n8784     2227\n        ...  \n4320     7888\n1977     8479\n916     16775\n8800    16023\n6561    13941\nName: Price, Length: 3180, dtype: int64"
     },
     "execution_count": 87,
     "metadata": {},
     "output_type": "execute_result"
    }
   ],
   "source": [
    "y_test"
   ]
  },
  {
   "cell_type": "code",
   "execution_count": 88,
   "metadata": {
    "ExecuteTime": {
     "end_time": "2024-03-02T18:42:36.033865Z",
     "start_time": "2024-03-02T18:42:35.856577Z"
    }
   },
   "outputs": [
    {
     "data": {
      "text/plain": "array([ 5503.46721638,  5689.83906197,  4122.12821192, ...,\n       12694.78193074, 11656.92966987, 10034.92410268])"
     },
     "execution_count": 88,
     "metadata": {},
     "output_type": "execute_result"
    }
   ],
   "source": [
    "predictions"
   ]
  },
  {
   "cell_type": "code",
   "execution_count": 89,
   "metadata": {
    "ExecuteTime": {
     "end_time": "2024-03-02T18:42:36.062252Z",
     "start_time": "2024-03-02T18:42:35.861135Z"
    }
   },
   "outputs": [
    {
     "data": {
      "text/plain": "0.44405136768493847"
     },
     "execution_count": 89,
     "metadata": {},
     "output_type": "execute_result"
    }
   ],
   "source": [
    "lm.score(X_train,y_train)"
   ]
  },
  {
   "cell_type": "code",
   "execution_count": 90,
   "metadata": {
    "ExecuteTime": {
     "end_time": "2024-03-02T18:42:36.942884Z",
     "start_time": "2024-03-02T18:42:35.888075Z"
    }
   },
   "outputs": [
    {
     "data": {
      "text/plain": "0.9206416914002482"
     },
     "execution_count": 90,
     "metadata": {},
     "output_type": "execute_result"
    }
   ],
   "source": [
    "##---------------------------------------------------------------------------------------##\n",
    "from sklearn.ensemble import RandomForestRegressor\n",
    "reg=RandomForestRegressor()\n",
    "reg.fit(X_train,y_train)\n",
    "reg.score(X_train,y_train)"
   ]
  },
  {
   "cell_type": "code",
   "execution_count": 91,
   "metadata": {
    "ExecuteTime": {
     "end_time": "2024-03-02T18:42:36.995115Z",
     "start_time": "2024-03-02T18:42:36.943200Z"
    }
   },
   "outputs": [],
   "source": [
    "y_pred = reg.predict(X_test)"
   ]
  },
  {
   "cell_type": "code",
   "execution_count": 92,
   "metadata": {
    "ExecuteTime": {
     "end_time": "2024-03-02T18:42:37.002252Z",
     "start_time": "2024-03-02T18:42:36.985321Z"
    }
   },
   "outputs": [
    {
     "data": {
      "text/plain": "0.7881344030412736"
     },
     "execution_count": 92,
     "metadata": {},
     "output_type": "execute_result"
    }
   ],
   "source": [
    "r2_score(y_true=y_test,y_pred=y_pred)"
   ]
  },
  {
   "cell_type": "code",
   "execution_count": 93,
   "metadata": {
    "ExecuteTime": {
     "end_time": "2024-03-02T18:42:37.002374Z",
     "start_time": "2024-03-02T18:42:36.988078Z"
    }
   },
   "outputs": [],
   "source": [
    "##With RF regressor we get 76 percent accuracy"
   ]
  },
  {
   "cell_type": "code",
   "execution_count": 94,
   "metadata": {
    "ExecuteTime": {
     "end_time": "2024-03-02T18:42:37.002541Z",
     "start_time": "2024-03-02T18:42:36.990856Z"
    }
   },
   "outputs": [
    {
     "data": {
      "text/plain": "5790     4148\n4340     3898\n3028     3943\n3037     3597\n8784     2227\n        ...  \n4320     7888\n1977     8479\n916     16775\n8800    16023\n6561    13941\nName: Price, Length: 3180, dtype: int64"
     },
     "execution_count": 94,
     "metadata": {},
     "output_type": "execute_result"
    }
   ],
   "source": [
    "y_test"
   ]
  },
  {
   "cell_type": "code",
   "execution_count": 95,
   "metadata": {
    "ExecuteTime": {
     "end_time": "2024-03-02T18:42:37.004775Z",
     "start_time": "2024-03-02T18:42:36.994161Z"
    }
   },
   "outputs": [
    {
     "data": {
      "text/plain": "array([ 4532.15      ,  4056.15      ,  3968.2       , ...,\n       15970.84      , 17619.74928571, 11585.67656716])"
     },
     "execution_count": 95,
     "metadata": {},
     "output_type": "execute_result"
    }
   ],
   "source": [
    "y_pred"
   ]
  },
  {
   "cell_type": "code",
   "execution_count": 96,
   "metadata": {
    "ExecuteTime": {
     "end_time": "2024-03-02T18:42:37.005352Z",
     "start_time": "2024-03-02T18:42:36.998368Z"
    }
   },
   "outputs": [],
   "source": [
    "d='01/12/2020'"
   ]
  },
  {
   "cell_type": "code",
   "execution_count": 97,
   "metadata": {
    "ExecuteTime": {
     "end_time": "2024-03-02T18:42:37.024593Z",
     "start_time": "2024-03-02T18:42:37.001697Z"
    }
   },
   "outputs": [
    {
     "data": {
      "text/plain": "'01'"
     },
     "execution_count": 97,
     "metadata": {},
     "output_type": "execute_result"
    }
   ],
   "source": [
    "d.split('/')[0]"
   ]
  },
  {
   "cell_type": "code",
   "execution_count": 98,
   "metadata": {
    "ExecuteTime": {
     "end_time": "2024-03-02T18:42:37.028431Z",
     "start_time": "2024-03-02T18:42:37.004918Z"
    }
   },
   "outputs": [
    {
     "data": {
      "text/plain": "'2.2.1'"
     },
     "execution_count": 98,
     "metadata": {},
     "output_type": "execute_result"
    }
   ],
   "source": [
    "pd.__version__"
   ]
  },
  {
   "cell_type": "code",
   "execution_count": 98,
   "metadata": {
    "ExecuteTime": {
     "end_time": "2024-03-02T18:42:37.028546Z",
     "start_time": "2024-03-02T18:42:37.007360Z"
    }
   },
   "outputs": [],
   "source": []
  },
  {
   "cell_type": "code",
   "execution_count": 98,
   "metadata": {
    "ExecuteTime": {
     "end_time": "2024-03-02T18:42:37.028609Z",
     "start_time": "2024-03-02T18:42:37.009158Z"
    }
   },
   "outputs": [],
   "source": []
  },
  {
   "cell_type": "code",
   "execution_count": 98,
   "metadata": {
    "ExecuteTime": {
     "end_time": "2024-03-02T18:42:37.028662Z",
     "start_time": "2024-03-02T18:42:37.011195Z"
    }
   },
   "outputs": [],
   "source": []
  }
 ],
 "metadata": {
  "kernelspec": {
   "display_name": "Python 3",
   "language": "python",
   "name": "python3"
  },
  "language_info": {
   "codemirror_mode": {
    "name": "ipython",
    "version": 3
   },
   "file_extension": ".py",
   "mimetype": "text/x-python",
   "name": "python",
   "nbconvert_exporter": "python",
   "pygments_lexer": "ipython3",
   "version": "3.8.5"
  }
 },
 "nbformat": 4,
 "nbformat_minor": 4
}
